{
 "cells": [
  {
   "cell_type": "markdown",
   "metadata": {},
   "source": [
    "# Sparkify Project Workspace\n",
    "This workspace contains a tiny subset (128MB) of the full dataset available (12GB). "
   ]
  },
  {
   "cell_type": "code",
   "execution_count": 74,
   "metadata": {},
   "outputs": [],
   "source": [
    "# import libraries\n",
    "from pyspark.sql import SparkSession\n",
    "from pyspark.sql.functions import col, isnan, when, count,round,asc,desc\n",
    "\n",
    "import matplotlib.pyplot as plt\n",
    "import seaborn as sns\n",
    "from pyspark.sql.functions import *\n",
    "from pyspark.sql.types import *\n",
    "\n",
    "# Apply the changes to the current session\n",
    "import os\n",
    "\n",
    "from pyspark.ml.feature import OneHotEncoder, StringIndexer, VectorAssembler, MinMaxScaler\n",
    "from pyspark.ml import Pipeline\n",
    "\n",
    "from pyspark.ml.evaluation import RegressionEvaluator\n",
    "from pyspark.sql.types import IntegerType, ArrayType, FloatType, DoubleType, Row, DateType\n",
    "from pyspark.ml.linalg import DenseVector, SparseVector\n",
    "from pyspark.ml.classification import LogisticRegression, RandomForestClassifier, GBTClassifier\n",
    "from pyspark.ml.evaluation import  MulticlassClassificationEvaluator, BinaryClassificationEvaluator\n",
    "from pyspark.ml.tuning import CrossValidator, ParamGridBuilder\n",
    "\n"
   ]
  },
  {
   "cell_type": "code",
   "execution_count": 2,
   "metadata": {},
   "outputs": [
    {
     "name": "stderr",
     "output_type": "stream",
     "text": [
      "/opt/venv/lib/python3.10/site-packages/pyspark/bin/load-spark-env.sh: line 68: ps: command not found\n",
      "Setting default log level to \"WARN\".\n",
      "To adjust logging level use sc.setLogLevel(newLevel). For SparkR, use setLogLevel(newLevel).\n",
      "25/03/04 11:30:18 WARN NativeCodeLoader: Unable to load native-hadoop library for your platform... using builtin-java classes where applicable\n"
     ]
    }
   ],
   "source": [
    "# create a Spark session\n",
    "os.environ['JAVA_HOME'] = '/workspace/jdk'\n",
    "os.environ['PATH'] = f\"{os.environ['JAVA_HOME']}/bin:{os.environ['PATH']}\"\n",
    "\n",
    "spark = SparkSession.builder.appName(\"Sparkify Project\").getOrCreate()"
   ]
  },
  {
   "cell_type": "markdown",
   "metadata": {},
   "source": [
    "# Load and Clean Dataset"
   ]
  },
  {
   "cell_type": "code",
   "execution_count": 3,
   "metadata": {},
   "outputs": [
    {
     "name": "stderr",
     "output_type": "stream",
     "text": [
      "                                                                                \r"
     ]
    }
   ],
   "source": [
    "# Load the mini dataset\n",
    "file_path = \"mini_sparkify_event_data.json\"\n",
    "df = spark.read.json(file_path)\n",
    "# df.show(5) "
   ]
  },
  {
   "cell_type": "markdown",
   "metadata": {},
   "source": [
    "# Exploratory Data Analysis"
   ]
  },
  {
   "cell_type": "markdown",
   "metadata": {},
   "source": [
    "### Data Understanding"
   ]
  },
  {
   "cell_type": "markdown",
   "metadata": {},
   "source": [
    "#### Describe data"
   ]
  },
  {
   "cell_type": "code",
   "execution_count": 4,
   "metadata": {},
   "outputs": [
    {
     "name": "stderr",
     "output_type": "stream",
     "text": [
      "                                                                                \r"
     ]
    },
    {
     "data": {
      "text/html": [
       "<div>\n",
       "<style scoped>\n",
       "    .dataframe tbody tr th:only-of-type {\n",
       "        vertical-align: middle;\n",
       "    }\n",
       "\n",
       "    .dataframe tbody tr th {\n",
       "        vertical-align: top;\n",
       "    }\n",
       "\n",
       "    .dataframe thead th {\n",
       "        text-align: right;\n",
       "    }\n",
       "</style>\n",
       "<table border=\"1\" class=\"dataframe\">\n",
       "  <thead>\n",
       "    <tr style=\"text-align: right;\">\n",
       "      <th></th>\n",
       "      <th>artist</th>\n",
       "      <th>auth</th>\n",
       "      <th>firstName</th>\n",
       "      <th>gender</th>\n",
       "      <th>itemInSession</th>\n",
       "      <th>lastName</th>\n",
       "      <th>length</th>\n",
       "      <th>level</th>\n",
       "      <th>location</th>\n",
       "      <th>method</th>\n",
       "      <th>page</th>\n",
       "      <th>registration</th>\n",
       "      <th>sessionId</th>\n",
       "      <th>song</th>\n",
       "      <th>status</th>\n",
       "      <th>ts</th>\n",
       "      <th>userAgent</th>\n",
       "      <th>userId</th>\n",
       "    </tr>\n",
       "  </thead>\n",
       "  <tbody>\n",
       "    <tr>\n",
       "      <th>0</th>\n",
       "      <td>Martha Tilston</td>\n",
       "      <td>Logged In</td>\n",
       "      <td>Colin</td>\n",
       "      <td>M</td>\n",
       "      <td>50</td>\n",
       "      <td>Freeman</td>\n",
       "      <td>277.89016</td>\n",
       "      <td>paid</td>\n",
       "      <td>Bakersfield, CA</td>\n",
       "      <td>PUT</td>\n",
       "      <td>NextSong</td>\n",
       "      <td>1.538173e+12</td>\n",
       "      <td>29</td>\n",
       "      <td>Rockpools</td>\n",
       "      <td>200</td>\n",
       "      <td>1538352117000</td>\n",
       "      <td>Mozilla/5.0 (Windows NT 6.1; WOW64; rv:31.0) G...</td>\n",
       "      <td>30</td>\n",
       "    </tr>\n",
       "    <tr>\n",
       "      <th>1</th>\n",
       "      <td>Five Iron Frenzy</td>\n",
       "      <td>Logged In</td>\n",
       "      <td>Micah</td>\n",
       "      <td>M</td>\n",
       "      <td>79</td>\n",
       "      <td>Long</td>\n",
       "      <td>236.09424</td>\n",
       "      <td>free</td>\n",
       "      <td>Boston-Cambridge-Newton, MA-NH</td>\n",
       "      <td>PUT</td>\n",
       "      <td>NextSong</td>\n",
       "      <td>1.538332e+12</td>\n",
       "      <td>8</td>\n",
       "      <td>Canada</td>\n",
       "      <td>200</td>\n",
       "      <td>1538352180000</td>\n",
       "      <td>\"Mozilla/5.0 (Windows NT 6.1; WOW64) AppleWebK...</td>\n",
       "      <td>9</td>\n",
       "    </tr>\n",
       "    <tr>\n",
       "      <th>2</th>\n",
       "      <td>Adam Lambert</td>\n",
       "      <td>Logged In</td>\n",
       "      <td>Colin</td>\n",
       "      <td>M</td>\n",
       "      <td>51</td>\n",
       "      <td>Freeman</td>\n",
       "      <td>282.82730</td>\n",
       "      <td>paid</td>\n",
       "      <td>Bakersfield, CA</td>\n",
       "      <td>PUT</td>\n",
       "      <td>NextSong</td>\n",
       "      <td>1.538173e+12</td>\n",
       "      <td>29</td>\n",
       "      <td>Time For Miracles</td>\n",
       "      <td>200</td>\n",
       "      <td>1538352394000</td>\n",
       "      <td>Mozilla/5.0 (Windows NT 6.1; WOW64; rv:31.0) G...</td>\n",
       "      <td>30</td>\n",
       "    </tr>\n",
       "    <tr>\n",
       "      <th>3</th>\n",
       "      <td>Enigma</td>\n",
       "      <td>Logged In</td>\n",
       "      <td>Micah</td>\n",
       "      <td>M</td>\n",
       "      <td>80</td>\n",
       "      <td>Long</td>\n",
       "      <td>262.71302</td>\n",
       "      <td>free</td>\n",
       "      <td>Boston-Cambridge-Newton, MA-NH</td>\n",
       "      <td>PUT</td>\n",
       "      <td>NextSong</td>\n",
       "      <td>1.538332e+12</td>\n",
       "      <td>8</td>\n",
       "      <td>Knocking On Forbidden Doors</td>\n",
       "      <td>200</td>\n",
       "      <td>1538352416000</td>\n",
       "      <td>\"Mozilla/5.0 (Windows NT 6.1; WOW64) AppleWebK...</td>\n",
       "      <td>9</td>\n",
       "    </tr>\n",
       "  </tbody>\n",
       "</table>\n",
       "</div>"
      ],
      "text/plain": [
       "             artist       auth firstName gender  itemInSession lastName  \\\n",
       "0    Martha Tilston  Logged In     Colin      M             50  Freeman   \n",
       "1  Five Iron Frenzy  Logged In     Micah      M             79     Long   \n",
       "2      Adam Lambert  Logged In     Colin      M             51  Freeman   \n",
       "3            Enigma  Logged In     Micah      M             80     Long   \n",
       "\n",
       "      length level                        location method      page  \\\n",
       "0  277.89016  paid                 Bakersfield, CA    PUT  NextSong   \n",
       "1  236.09424  free  Boston-Cambridge-Newton, MA-NH    PUT  NextSong   \n",
       "2  282.82730  paid                 Bakersfield, CA    PUT  NextSong   \n",
       "3  262.71302  free  Boston-Cambridge-Newton, MA-NH    PUT  NextSong   \n",
       "\n",
       "   registration  sessionId                         song  status  \\\n",
       "0  1.538173e+12         29                    Rockpools     200   \n",
       "1  1.538332e+12          8                       Canada     200   \n",
       "2  1.538173e+12         29            Time For Miracles     200   \n",
       "3  1.538332e+12          8  Knocking On Forbidden Doors     200   \n",
       "\n",
       "              ts                                          userAgent userId  \n",
       "0  1538352117000  Mozilla/5.0 (Windows NT 6.1; WOW64; rv:31.0) G...     30  \n",
       "1  1538352180000  \"Mozilla/5.0 (Windows NT 6.1; WOW64) AppleWebK...      9  \n",
       "2  1538352394000  Mozilla/5.0 (Windows NT 6.1; WOW64; rv:31.0) G...     30  \n",
       "3  1538352416000  \"Mozilla/5.0 (Windows NT 6.1; WOW64) AppleWebK...      9  "
      ]
     },
     "execution_count": 4,
     "metadata": {},
     "output_type": "execute_result"
    }
   ],
   "source": [
    "df.toPandas().head(4)"
   ]
  },
  {
   "cell_type": "code",
   "execution_count": 5,
   "metadata": {},
   "outputs": [
    {
     "name": "stdout",
     "output_type": "stream",
     "text": [
      "root\n",
      " |-- artist: string (nullable = true)\n",
      " |-- auth: string (nullable = true)\n",
      " |-- firstName: string (nullable = true)\n",
      " |-- gender: string (nullable = true)\n",
      " |-- itemInSession: long (nullable = true)\n",
      " |-- lastName: string (nullable = true)\n",
      " |-- length: double (nullable = true)\n",
      " |-- level: string (nullable = true)\n",
      " |-- location: string (nullable = true)\n",
      " |-- method: string (nullable = true)\n",
      " |-- page: string (nullable = true)\n",
      " |-- registration: long (nullable = true)\n",
      " |-- sessionId: long (nullable = true)\n",
      " |-- song: string (nullable = true)\n",
      " |-- status: long (nullable = true)\n",
      " |-- ts: long (nullable = true)\n",
      " |-- userAgent: string (nullable = true)\n",
      " |-- userId: string (nullable = true)\n",
      "\n"
     ]
    }
   ],
   "source": [
    "# check schema of df\n",
    "df.printSchema()"
   ]
  },
  {
   "cell_type": "code",
   "execution_count": 6,
   "metadata": {},
   "outputs": [
    {
     "name": "stderr",
     "output_type": "stream",
     "text": [
      "                                                                                \r"
     ]
    },
    {
     "data": {
      "text/plain": [
       "(286500, 18)"
      ]
     },
     "execution_count": 6,
     "metadata": {},
     "output_type": "execute_result"
    }
   ],
   "source": [
    "# check rows and columns lenght\n",
    "df.count(), len(df.columns)"
   ]
  },
  {
   "cell_type": "code",
   "execution_count": 7,
   "metadata": {},
   "outputs": [
    {
     "name": "stderr",
     "output_type": "stream",
     "text": [
      "                                                                                \r"
     ]
    },
    {
     "data": {
      "text/html": [
       "<div>\n",
       "<style scoped>\n",
       "    .dataframe tbody tr th:only-of-type {\n",
       "        vertical-align: middle;\n",
       "    }\n",
       "\n",
       "    .dataframe tbody tr th {\n",
       "        vertical-align: top;\n",
       "    }\n",
       "\n",
       "    .dataframe thead th {\n",
       "        text-align: right;\n",
       "    }\n",
       "</style>\n",
       "<table border=\"1\" class=\"dataframe\">\n",
       "  <thead>\n",
       "    <tr style=\"text-align: right;\">\n",
       "      <th></th>\n",
       "      <th>artist</th>\n",
       "      <th>auth</th>\n",
       "      <th>firstName</th>\n",
       "      <th>gender</th>\n",
       "      <th>itemInSession</th>\n",
       "      <th>lastName</th>\n",
       "      <th>length</th>\n",
       "      <th>level</th>\n",
       "      <th>location</th>\n",
       "      <th>method</th>\n",
       "      <th>page</th>\n",
       "      <th>registration</th>\n",
       "      <th>sessionId</th>\n",
       "      <th>song</th>\n",
       "      <th>status</th>\n",
       "      <th>ts</th>\n",
       "      <th>userAgent</th>\n",
       "      <th>userId</th>\n",
       "    </tr>\n",
       "  </thead>\n",
       "  <tbody>\n",
       "    <tr>\n",
       "      <th>0</th>\n",
       "      <td>58392</td>\n",
       "      <td>0</td>\n",
       "      <td>8346</td>\n",
       "      <td>8346</td>\n",
       "      <td>0</td>\n",
       "      <td>8346</td>\n",
       "      <td>58392</td>\n",
       "      <td>0</td>\n",
       "      <td>8346</td>\n",
       "      <td>0</td>\n",
       "      <td>0</td>\n",
       "      <td>8346</td>\n",
       "      <td>0</td>\n",
       "      <td>58392</td>\n",
       "      <td>0</td>\n",
       "      <td>0</td>\n",
       "      <td>8346</td>\n",
       "      <td>0</td>\n",
       "    </tr>\n",
       "  </tbody>\n",
       "</table>\n",
       "</div>"
      ],
      "text/plain": [
       "   artist  auth  firstName  gender  itemInSession  lastName  length  level  \\\n",
       "0   58392     0       8346    8346              0      8346   58392      0   \n",
       "\n",
       "   location  method  page  registration  sessionId   song  status  ts  \\\n",
       "0      8346       0     0          8346          0  58392       0   0   \n",
       "\n",
       "   userAgent  userId  \n",
       "0       8346       0  "
      ]
     },
     "execution_count": 7,
     "metadata": {},
     "output_type": "execute_result"
    }
   ],
   "source": [
    "# check missing data\n",
    "df.select([count(when(isnan(column) | col(column).isNull(), column)).alias(column) for column in df.columns]).toPandas()"
   ]
  },
  {
   "cell_type": "code",
   "execution_count": 8,
   "metadata": {
    "scrolled": true
   },
   "outputs": [
    {
     "name": "stderr",
     "output_type": "stream",
     "text": [
      "                                                                                \r"
     ]
    },
    {
     "name": "stdout",
     "output_type": "stream",
     "text": [
      "+----------+\n",
      "|      auth|\n",
      "+----------+\n",
      "|Logged Out|\n",
      "| Cancelled|\n",
      "|     Guest|\n",
      "| Logged In|\n",
      "+----------+\n",
      "\n"
     ]
    },
    {
     "name": "stderr",
     "output_type": "stream",
     "text": [
      "                                                                                \r"
     ]
    },
    {
     "name": "stdout",
     "output_type": "stream",
     "text": [
      "+------+\n",
      "|gender|\n",
      "+------+\n",
      "|     F|\n",
      "|     M|\n",
      "|  NULL|\n",
      "+------+\n",
      "\n"
     ]
    },
    {
     "name": "stderr",
     "output_type": "stream",
     "text": [
      "                                                                                \r"
     ]
    },
    {
     "name": "stdout",
     "output_type": "stream",
     "text": [
      "+-----+\n",
      "|level|\n",
      "+-----+\n",
      "| free|\n",
      "| paid|\n",
      "+-----+\n",
      "\n"
     ]
    },
    {
     "name": "stderr",
     "output_type": "stream",
     "text": [
      "                                                                                \r"
     ]
    },
    {
     "name": "stdout",
     "output_type": "stream",
     "text": [
      "+--------------------+\n",
      "|            location|\n",
      "+--------------------+\n",
      "|     Gainesville, FL|\n",
      "|Atlantic City-Ham...|\n",
      "|Deltona-Daytona B...|\n",
      "|San Diego-Carlsba...|\n",
      "|Cleveland-Elyria, OH|\n",
      "|Kingsport-Bristol...|\n",
      "|New Haven-Milford...|\n",
      "|Birmingham-Hoover...|\n",
      "|  Corpus Christi, TX|\n",
      "|         Dubuque, IA|\n",
      "|Las Vegas-Henders...|\n",
      "|Indianapolis-Carm...|\n",
      "|Seattle-Tacoma-Be...|\n",
      "|          Albany, OR|\n",
      "|   Winston-Salem, NC|\n",
      "|     Bakersfield, CA|\n",
      "|Los Angeles-Long ...|\n",
      "|Minneapolis-St. P...|\n",
      "|San Francisco-Oak...|\n",
      "|Phoenix-Mesa-Scot...|\n",
      "+--------------------+\n",
      "only showing top 20 rows\n",
      "\n"
     ]
    },
    {
     "name": "stderr",
     "output_type": "stream",
     "text": [
      "                                                                                \r"
     ]
    },
    {
     "name": "stdout",
     "output_type": "stream",
     "text": [
      "+------+\n",
      "|method|\n",
      "+------+\n",
      "|   PUT|\n",
      "|   GET|\n",
      "+------+\n",
      "\n"
     ]
    },
    {
     "name": "stderr",
     "output_type": "stream",
     "text": [
      "                                                                                \r"
     ]
    },
    {
     "name": "stdout",
     "output_type": "stream",
     "text": [
      "+--------------------+\n",
      "|                page|\n",
      "+--------------------+\n",
      "|              Cancel|\n",
      "|    Submit Downgrade|\n",
      "|         Thumbs Down|\n",
      "|                Home|\n",
      "|           Downgrade|\n",
      "|         Roll Advert|\n",
      "|              Logout|\n",
      "|       Save Settings|\n",
      "|Cancellation Conf...|\n",
      "|               About|\n",
      "| Submit Registration|\n",
      "|            Settings|\n",
      "|               Login|\n",
      "|            Register|\n",
      "|     Add to Playlist|\n",
      "|          Add Friend|\n",
      "|            NextSong|\n",
      "|           Thumbs Up|\n",
      "|                Help|\n",
      "|             Upgrade|\n",
      "+--------------------+\n",
      "only showing top 20 rows\n",
      "\n"
     ]
    },
    {
     "name": "stderr",
     "output_type": "stream",
     "text": [
      "                                                                                \r"
     ]
    },
    {
     "name": "stdout",
     "output_type": "stream",
     "text": [
      "+--------------------+\n",
      "|           userAgent|\n",
      "+--------------------+\n",
      "|\"Mozilla/5.0 (Mac...|\n",
      "|\"Mozilla/5.0 (Win...|\n",
      "|Mozilla/5.0 (X11;...|\n",
      "|\"Mozilla/5.0 (Mac...|\n",
      "|\"Mozilla/5.0 (Mac...|\n",
      "|Mozilla/5.0 (Maci...|\n",
      "|Mozilla/5.0 (Wind...|\n",
      "|Mozilla/5.0 (Wind...|\n",
      "|Mozilla/5.0 (comp...|\n",
      "|\"Mozilla/5.0 (Win...|\n",
      "|Mozilla/5.0 (Maci...|\n",
      "|\"Mozilla/5.0 (Win...|\n",
      "|\"Mozilla/5.0 (iPh...|\n",
      "|\"Mozilla/5.0 (Win...|\n",
      "|Mozilla/5.0 (Wind...|\n",
      "|Mozilla/5.0 (comp...|\n",
      "|Mozilla/5.0 (comp...|\n",
      "|\"Mozilla/5.0 (Mac...|\n",
      "|\"Mozilla/5.0 (Mac...|\n",
      "|\"Mozilla/5.0 (Win...|\n",
      "+--------------------+\n",
      "only showing top 20 rows\n",
      "\n"
     ]
    },
    {
     "name": "stderr",
     "output_type": "stream",
     "text": [
      "\r",
      "[Stage 29:>                                                         (0 + 1) / 1]\r"
     ]
    },
    {
     "name": "stdout",
     "output_type": "stream",
     "text": [
      "+------+\n",
      "|userID|\n",
      "+------+\n",
      "|100010|\n",
      "|200002|\n",
      "|   125|\n",
      "|    51|\n",
      "|   124|\n",
      "|     7|\n",
      "|    54|\n",
      "|    15|\n",
      "|   155|\n",
      "|   132|\n",
      "|   154|\n",
      "|100014|\n",
      "|   101|\n",
      "|    11|\n",
      "|   138|\n",
      "|300017|\n",
      "|    29|\n",
      "|    69|\n",
      "|100021|\n",
      "|    42|\n",
      "+------+\n",
      "only showing top 20 rows\n",
      "\n"
     ]
    },
    {
     "name": "stderr",
     "output_type": "stream",
     "text": [
      "\r",
      "                                                                                \r"
     ]
    },
    {
     "data": {
      "text/plain": [
       "(None, None, None, None, None, None, None, None)"
      ]
     },
     "execution_count": 8,
     "metadata": {},
     "output_type": "execute_result"
    }
   ],
   "source": [
    "#check values of particular string columns\n",
    "df.select('auth').distinct().show(), df.select('gender').distinct().show(),\\\n",
    "df.select('level').distinct().show() ,df.select('location').distinct().show(),\\\n",
    "df.select('method').distinct().show(), df.select('page').distinct().show(),\\\n",
    "df.select('userAgent').distinct().show(), df.select('userID').distinct().show()"
   ]
  },
  {
   "cell_type": "code",
   "execution_count": 9,
   "metadata": {},
   "outputs": [
    {
     "name": "stderr",
     "output_type": "stream",
     "text": [
      "                                                                                \r"
     ]
    },
    {
     "data": {
      "text/plain": [
       "([Row(userID='100010'),\n",
       "  Row(userID='200002'),\n",
       "  Row(userID='125'),\n",
       "  Row(userID='51'),\n",
       "  Row(userID='124'),\n",
       "  Row(userID='7'),\n",
       "  Row(userID='54'),\n",
       "  Row(userID='15'),\n",
       "  Row(userID='155'),\n",
       "  Row(userID='132'),\n",
       "  Row(userID='154'),\n",
       "  Row(userID='100014'),\n",
       "  Row(userID='101'),\n",
       "  Row(userID='11'),\n",
       "  Row(userID='138'),\n",
       "  Row(userID='300017'),\n",
       "  Row(userID='29'),\n",
       "  Row(userID='69'),\n",
       "  Row(userID='100021'),\n",
       "  Row(userID='42'),\n",
       "  Row(userID='112'),\n",
       "  Row(userID='87'),\n",
       "  Row(userID='73'),\n",
       "  Row(userID='64'),\n",
       "  Row(userID='200010'),\n",
       "  Row(userID='3'),\n",
       "  Row(userID='30'),\n",
       "  Row(userID='113'),\n",
       "  Row(userID='34'),\n",
       "  Row(userID='133'),\n",
       "  Row(userID='59'),\n",
       "  Row(userID='146'),\n",
       "  Row(userID='139'),\n",
       "  Row(userID='8'),\n",
       "  Row(userID='28'),\n",
       "  Row(userID='22'),\n",
       "  Row(userID='300018'),\n",
       "  Row(userID='300012'),\n",
       "  Row(userID='100022'),\n",
       "  Row(userID='85'),\n",
       "  Row(userID='52'),\n",
       "  Row(userID='35'),\n",
       "  Row(userID='16'),\n",
       "  Row(userID='300008'),\n",
       "  Row(userID='71'),\n",
       "  Row(userID='98'),\n",
       "  Row(userID='300013'),\n",
       "  Row(userID='99'),\n",
       "  Row(userID='47'),\n",
       "  Row(userID='100008'),\n",
       "  Row(userID='100025'),\n",
       "  Row(userID='110'),\n",
       "  Row(userID='107'),\n",
       "  Row(userID='300006'),\n",
       "  Row(userID='300002'),\n",
       "  Row(userID='96'),\n",
       "  Row(userID='43'),\n",
       "  Row(userID='300007'),\n",
       "  Row(userID='5'),\n",
       "  Row(userID='100'),\n",
       "  Row(userID='100006'),\n",
       "  Row(userID='18'),\n",
       "  Row(userID='70'),\n",
       "  Row(userID='100005'),\n",
       "  Row(userID='27'),\n",
       "  Row(userID='61'),\n",
       "  Row(userID='75'),\n",
       "  Row(userID='131'),\n",
       "  Row(userID='126'),\n",
       "  Row(userID='140'),\n",
       "  Row(userID='17'),\n",
       "  Row(userID='26'),\n",
       "  Row(userID='100007'),\n",
       "  Row(userID='120'),\n",
       "  Row(userID='200007'),\n",
       "  Row(userID='46'),\n",
       "  Row(userID='300004'),\n",
       "  Row(userID='147'),\n",
       "  Row(userID='300001'),\n",
       "  Row(userID='78'),\n",
       "  Row(userID='300015'),\n",
       "  Row(userID='77'),\n",
       "  Row(userID='89'),\n",
       "  Row(userID='136'),\n",
       "  Row(userID='6'),\n",
       "  Row(userID='118'),\n",
       "  Row(userID='300019'),\n",
       "  Row(userID='200014'),\n",
       "  Row(userID='100009'),\n",
       "  Row(userID='300011'),\n",
       "  Row(userID='90'),\n",
       "  Row(userID='104'),\n",
       "  Row(userID='68'),\n",
       "  Row(userID='60'),\n",
       "  Row(userID='100004'),\n",
       "  Row(userID='200003'),\n",
       "  Row(userID='100015'),\n",
       "  Row(userID='19'),\n",
       "  Row(userID='300023'),\n",
       "  Row(userID='300024'),\n",
       "  Row(userID='41'),\n",
       "  Row(userID='128'),\n",
       "  Row(userID='23'),\n",
       "  Row(userID='200024'),\n",
       "  Row(userID='102'),\n",
       "  Row(userID='55'),\n",
       "  Row(userID='200008'),\n",
       "  Row(userID='111'),\n",
       "  Row(userID='100016'),\n",
       "  Row(userID='100003'),\n",
       "  Row(userID='95'),\n",
       "  Row(userID='93'),\n",
       "  Row(userID='40'),\n",
       "  Row(userID='38'),\n",
       "  Row(userID='103'),\n",
       "  Row(userID='200005'),\n",
       "  Row(userID='25'),\n",
       "  Row(userID='200009'),\n",
       "  Row(userID='135'),\n",
       "  Row(userID='44'),\n",
       "  Row(userID='156'),\n",
       "  Row(userID='144'),\n",
       "  Row(userID='100024'),\n",
       "  Row(userID='115'),\n",
       "  Row(userID='82'),\n",
       "  Row(userID='200023'),\n",
       "  Row(userID='53'),\n",
       "  Row(userID='92'),\n",
       "  Row(userID='122'),\n",
       "  Row(userID='117'),\n",
       "  Row(userID='108'),\n",
       "  Row(userID='300010'),\n",
       "  Row(userID='86'),\n",
       "  Row(userID='200017'),\n",
       "  Row(userID='58'),\n",
       "  Row(userID='100011'),\n",
       "  Row(userID='100019'),\n",
       "  Row(userID='300014'),\n",
       "  Row(userID='81'),\n",
       "  Row(userID='33'),\n",
       "  Row(userID='114'),\n",
       "  Row(userID='150'),\n",
       "  Row(userID='100012'),\n",
       "  Row(userID='200018'),\n",
       "  Row(userID='200025'),\n",
       "  Row(userID='200016'),\n",
       "  Row(userID='300003'),\n",
       "  Row(userID='153'),\n",
       "  Row(userID='200020'),\n",
       "  Row(userID='141'),\n",
       "  Row(userID='148'),\n",
       "  Row(userID='97'),\n",
       "  Row(userID='67'),\n",
       "  Row(userID='106'),\n",
       "  Row(userID='84'),\n",
       "  Row(userID='143'),\n",
       "  Row(userID='79'),\n",
       "  Row(userID='300025'),\n",
       "  Row(userID='9'),\n",
       "  Row(userID='24'),\n",
       "  Row(userID='32'),\n",
       "  Row(userID='116'),\n",
       "  Row(userID='152'),\n",
       "  Row(userID='88'),\n",
       "  Row(userID='134'),\n",
       "  Row(userID='200001'),\n",
       "  Row(userID='149'),\n",
       "  Row(userID='105'),\n",
       "  Row(userID='20'),\n",
       "  Row(userID='200011'),\n",
       "  Row(userID='200006'),\n",
       "  Row(userID='100023'),\n",
       "  Row(userID='142'),\n",
       "  Row(userID='100013'),\n",
       "  Row(userID='56'),\n",
       "  Row(userID='127'),\n",
       "  Row(userID='36'),\n",
       "  Row(userID='300009'),\n",
       "  Row(userID='10'),\n",
       "  Row(userID='37'),\n",
       "  Row(userID='300022'),\n",
       "  Row(userID='49'),\n",
       "  Row(userID='300021'),\n",
       "  Row(userID='200004'),\n",
       "  Row(userID='300005'),\n",
       "  Row(userID='100017'),\n",
       "  Row(userID='63'),\n",
       "  Row(userID='300020'),\n",
       "  Row(userID='65'),\n",
       "  Row(userID='4'),\n",
       "  Row(userID='121'),\n",
       "  Row(userID='39'),\n",
       "  Row(userID='200012'),\n",
       "  Row(userID='62'),\n",
       "  Row(userID='12'),\n",
       "  Row(userID='83'),\n",
       "  Row(userID=''),\n",
       "  Row(userID='109'),\n",
       "  Row(userID='123'),\n",
       "  Row(userID='200022'),\n",
       "  Row(userID='13'),\n",
       "  Row(userID='200019'),\n",
       "  Row(userID='14'),\n",
       "  Row(userID='21'),\n",
       "  Row(userID='66'),\n",
       "  Row(userID='94'),\n",
       "  Row(userID='91'),\n",
       "  Row(userID='74'),\n",
       "  Row(userID='137'),\n",
       "  Row(userID='72'),\n",
       "  Row(userID='300016'),\n",
       "  Row(userID='151'),\n",
       "  Row(userID='200015'),\n",
       "  Row(userID='129'),\n",
       "  Row(userID='76'),\n",
       "  Row(userID='2'),\n",
       "  Row(userID='80'),\n",
       "  Row(userID='100018'),\n",
       "  Row(userID='100002'),\n",
       "  Row(userID='50'),\n",
       "  Row(userID='145'),\n",
       "  Row(userID='45'),\n",
       "  Row(userID='57'),\n",
       "  Row(userID='200021'),\n",
       "  Row(userID='119'),\n",
       "  Row(userID='100001')],\n",
       " [Row(location='Gainesville, FL'),\n",
       "  Row(location='Atlantic City-Hammonton, NJ'),\n",
       "  Row(location='Deltona-Daytona Beach-Ormond Beach, FL'),\n",
       "  Row(location='San Diego-Carlsbad, CA'),\n",
       "  Row(location='Cleveland-Elyria, OH'),\n",
       "  Row(location='Kingsport-Bristol-Bristol, TN-VA'),\n",
       "  Row(location='New Haven-Milford, CT'),\n",
       "  Row(location='Birmingham-Hoover, AL'),\n",
       "  Row(location='Corpus Christi, TX'),\n",
       "  Row(location='Dubuque, IA'),\n",
       "  Row(location='Las Vegas-Henderson-Paradise, NV'),\n",
       "  Row(location='Indianapolis-Carmel-Anderson, IN'),\n",
       "  Row(location='Seattle-Tacoma-Bellevue, WA'),\n",
       "  Row(location='Albany, OR'),\n",
       "  Row(location='Winston-Salem, NC'),\n",
       "  Row(location='Bakersfield, CA'),\n",
       "  Row(location='Los Angeles-Long Beach-Anaheim, CA'),\n",
       "  Row(location='Minneapolis-St. Paul-Bloomington, MN-WI'),\n",
       "  Row(location='San Francisco-Oakland-Hayward, CA'),\n",
       "  Row(location='Phoenix-Mesa-Scottsdale, AZ'),\n",
       "  Row(location='Allentown-Bethlehem-Easton, PA-NJ'),\n",
       "  Row(location='Miami-Fort Lauderdale-West Palm Beach, FL'),\n",
       "  Row(location='Selma, AL'),\n",
       "  Row(location='Dayton, OH'),\n",
       "  Row(location='San Jose-Sunnyvale-Santa Clara, CA'),\n",
       "  Row(location='Bridgeport-Stamford-Norwalk, CT'),\n",
       "  Row(location='Price, UT'),\n",
       "  Row(location='Providence-Warwick, RI-MA'),\n",
       "  Row(location='Columbus, GA-AL'),\n",
       "  Row(location='Greenville-Anderson-Mauldin, SC'),\n",
       "  Row(location='Logan, UT-ID'),\n",
       "  Row(location='Myrtle Beach-Conway-North Myrtle Beach, SC-NC'),\n",
       "  Row(location='Buffalo-Cheektowaga-Niagara Falls, NY'),\n",
       "  Row(location='Cookeville, TN'),\n",
       "  Row(location='New Philadelphia-Dover, OH'),\n",
       "  Row(location='Anchorage, AK'),\n",
       "  Row(location='New York-Newark-Jersey City, NY-NJ-PA'),\n",
       "  Row(location='St. Louis, MO-IL'),\n",
       "  Row(location='Jackson, MS'),\n",
       "  Row(location='Orlando-Kissimmee-Sanford, FL'),\n",
       "  Row(location='McAllen-Edinburg-Mission, TX'),\n",
       "  Row(location='Oxnard-Thousand Oaks-Ventura, CA'),\n",
       "  Row(location='Memphis, TN-MS-AR'),\n",
       "  Row(location='San Antonio-New Braunfels, TX'),\n",
       "  Row(location='Troy, AL'),\n",
       "  Row(location='Duluth, MN-WI'),\n",
       "  Row(location='Danville, VA'),\n",
       "  Row(location='Washington-Arlington-Alexandria, DC-VA-MD-WV'),\n",
       "  Row(location='Manchester-Nashua, NH'),\n",
       "  Row(location='Greensboro-High Point, NC'),\n",
       "  Row(location='Sterling, IL'),\n",
       "  Row(location='Napa, CA'),\n",
       "  Row(location='Monroe, LA'),\n",
       "  Row(location='Louisville/Jefferson County, KY-IN'),\n",
       "  Row(location='Syracuse, NY'),\n",
       "  Row(location='Little Rock-North Little Rock-Conway, AR'),\n",
       "  Row(location='Austin-Round Rock, TX'),\n",
       "  Row(location='Kansas City, MO-KS'),\n",
       "  Row(location='Cincinnati, OH-KY-IN'),\n",
       "  Row(location='Bozeman, MT'),\n",
       "  Row(location='Truckee-Grass Valley, CA'),\n",
       "  Row(location='Boston-Cambridge-Newton, MA-NH'),\n",
       "  Row(location='Philadelphia-Camden-Wilmington, PA-NJ-DE-MD'),\n",
       "  Row(location='Atlanta-Sandy Springs-Roswell, GA'),\n",
       "  Row(location='Pittsburgh, PA'),\n",
       "  Row(location='Chicago-Naperville-Elgin, IL-IN-WI'),\n",
       "  Row(location='Dallas-Fort Worth-Arlington, TX'),\n",
       "  Row(location='North Wilkesboro, NC'),\n",
       "  Row(location='Oklahoma City, OK'),\n",
       "  Row(location='Albany-Schenectady-Troy, NY'),\n",
       "  Row(location='Quincy, IL-MO'),\n",
       "  Row(location='Pontiac, IL'),\n",
       "  Row(location='Jacksonville, FL'),\n",
       "  Row(location='Fairbanks, AK'),\n",
       "  Row(location='Houston-The Woodlands-Sugar Land, TX'),\n",
       "  Row(location='Montgomery, AL'),\n",
       "  Row(location='Hartford-West Hartford-East Hartford, CT'),\n",
       "  Row(location='Port St. Lucie, FL'),\n",
       "  Row(location='Omaha-Council Bluffs, NE-IA'),\n",
       "  Row(location='Charlotte-Concord-Gastonia, NC-SC'),\n",
       "  Row(location='Baltimore-Columbia-Towson, MD'),\n",
       "  Row(location='Raleigh, NC'),\n",
       "  Row(location='Sacramento--Roseville--Arden-Arcade, CA'),\n",
       "  Row(location='Laurel, MS'),\n",
       "  Row(location='Lexington-Fayette, KY'),\n",
       "  Row(location='Tampa-St. Petersburg-Clearwater, FL'),\n",
       "  Row(location='London, KY'),\n",
       "  Row(location='Tallahassee, FL'),\n",
       "  Row(location='Roanoke, VA'),\n",
       "  Row(location='Virginia Beach-Norfolk-Newport News, VA-NC'),\n",
       "  Row(location='Riverside-San Bernardino-Ontario, CA'),\n",
       "  Row(location='Concord, NH'),\n",
       "  Row(location='Stockton-Lodi, CA'),\n",
       "  Row(location='Boulder, CO'),\n",
       "  Row(location='Milwaukee-Waukesha-West Allis, WI'),\n",
       "  Row(location='Detroit-Warren-Dearborn, MI'),\n",
       "  Row(location='Billings, MT'),\n",
       "  Row(location='Alexandria, LA'),\n",
       "  Row(location='Salinas, CA'),\n",
       "  Row(location='Ionia, MI'),\n",
       "  Row(location='Morgantown, WV'),\n",
       "  Row(location='Vineland-Bridgeton, NJ'),\n",
       "  Row(location='Jacksonville, NC'),\n",
       "  Row(location='Spokane-Spokane Valley, WA'),\n",
       "  Row(location='Scranton--Wilkes-Barre--Hazleton, PA'),\n",
       "  Row(location='Kankakee, IL'),\n",
       "  Row(location='Portland-Vancouver-Hillsboro, OR-WA'),\n",
       "  Row(location='Denver-Aurora-Lakewood, CO'),\n",
       "  Row(location='Flint, MI'),\n",
       "  Row(location='Santa Maria-Santa Barbara, CA'),\n",
       "  Row(location='Muncie, IN'),\n",
       "  Row(location='Colorado Springs, CO'),\n",
       "  Row(location='Wilson, NC'),\n",
       "  Row(location='Hagerstown-Martinsburg, MD-WV'),\n",
       "  Row(location=None)],\n",
       " [Row(page='Cancel'),\n",
       "  Row(page='Submit Downgrade'),\n",
       "  Row(page='Thumbs Down'),\n",
       "  Row(page='Home'),\n",
       "  Row(page='Downgrade'),\n",
       "  Row(page='Roll Advert'),\n",
       "  Row(page='Logout'),\n",
       "  Row(page='Save Settings'),\n",
       "  Row(page='Cancellation Confirmation'),\n",
       "  Row(page='About'),\n",
       "  Row(page='Submit Registration'),\n",
       "  Row(page='Settings'),\n",
       "  Row(page='Login'),\n",
       "  Row(page='Register'),\n",
       "  Row(page='Add to Playlist'),\n",
       "  Row(page='Add Friend'),\n",
       "  Row(page='NextSong'),\n",
       "  Row(page='Thumbs Up'),\n",
       "  Row(page='Help'),\n",
       "  Row(page='Upgrade'),\n",
       "  Row(page='Error'),\n",
       "  Row(page='Submit Upgrade')])"
      ]
     },
     "execution_count": 9,
     "metadata": {},
     "output_type": "execute_result"
    }
   ],
   "source": [
    "# check usedID, location and page in more details\n",
    "df.select('userID').distinct().collect(), df.select('location').distinct().collect(), df.select('page').distinct().collect()"
   ]
  },
  {
   "cell_type": "code",
   "execution_count": 10,
   "metadata": {},
   "outputs": [
    {
     "name": "stderr",
     "output_type": "stream",
     "text": [
      "                                                                                \r"
     ]
    },
    {
     "data": {
      "text/plain": [
       "8346"
      ]
     },
     "execution_count": 10,
     "metadata": {},
     "output_type": "execute_result"
    }
   ],
   "source": [
    "# check how many rows in userID column are not a number\n",
    "my_values = ['0', '1', '2', '3','4', '5','6', '7','8', '9',]\n",
    "regex_values = \"|\".join(my_values)\n",
    "df.select('userID').filter(~df['userID'].rlike(regex_values)).count()"
   ]
  },
  {
   "cell_type": "code",
   "execution_count": 11,
   "metadata": {},
   "outputs": [],
   "source": [
    "df.createOrReplaceTempView(\"tbl_df\")"
   ]
  },
  {
   "cell_type": "code",
   "execution_count": 12,
   "metadata": {},
   "outputs": [
    {
     "name": "stdout",
     "output_type": "stream",
     "text": [
      "+----+\n",
      "|   a|\n",
      "+----+\n",
      "|8346|\n",
      "+----+\n",
      "\n"
     ]
    },
    {
     "name": "stderr",
     "output_type": "stream",
     "text": [
      "\r",
      "[Stage 44:>                                                         (0 + 1) / 1]\r",
      "\r",
      "                                                                                \r"
     ]
    }
   ],
   "source": [
    "spark.sql('''\n",
    "        SELECT count(userId) as a \n",
    "        FROM tbl_df\n",
    "        where userId like ('')\n",
    "        \n",
    "        ''').show()"
   ]
  },
  {
   "cell_type": "markdown",
   "metadata": {},
   "source": [
    "I will delete rows with userId = '' during data cleaning"
   ]
  },
  {
   "cell_type": "code",
   "execution_count": 13,
   "metadata": {},
   "outputs": [
    {
     "name": "stderr",
     "output_type": "stream",
     "text": [
      "                                                                                \r"
     ]
    },
    {
     "name": "stdout",
     "output_type": "stream",
     "text": [
      "+-------+------------------+\n",
      "|summary|     itemInSession|\n",
      "+-------+------------------+\n",
      "|  count|            286500|\n",
      "|   mean|114.41421291448516|\n",
      "| stddev|129.76726201140994|\n",
      "|    min|                 0|\n",
      "|    max|              1321|\n",
      "+-------+------------------+\n",
      "\n"
     ]
    },
    {
     "name": "stderr",
     "output_type": "stream",
     "text": [
      "                                                                                \r"
     ]
    },
    {
     "name": "stdout",
     "output_type": "stream",
     "text": [
      "+-------+-----------------+\n",
      "|summary|           length|\n",
      "+-------+-----------------+\n",
      "|  count|           228108|\n",
      "|   mean|249.1171819778458|\n",
      "| stddev|99.23517921058361|\n",
      "|    min|          0.78322|\n",
      "|    max|       3024.66567|\n",
      "+-------+-----------------+\n",
      "\n"
     ]
    },
    {
     "name": "stderr",
     "output_type": "stream",
     "text": [
      "\r",
      "[Stage 53:>                                                         (0 + 1) / 1]\r",
      "\r",
      "                                                                                \r"
     ]
    },
    {
     "name": "stdout",
     "output_type": "stream",
     "text": [
      "+-------+--------------------+\n",
      "|summary|        registration|\n",
      "+-------+--------------------+\n",
      "|  count|              278154|\n",
      "|   mean|1.535358834084427...|\n",
      "| stddev| 3.291321616327586E9|\n",
      "|    min|       1521380675000|\n",
      "|    max|       1543247354000|\n",
      "+-------+--------------------+\n",
      "\n"
     ]
    },
    {
     "name": "stderr",
     "output_type": "stream",
     "text": [
      "\r",
      "[Stage 56:>                                                         (0 + 1) / 1]\r",
      "\r",
      "                                                                                \r"
     ]
    },
    {
     "name": "stdout",
     "output_type": "stream",
     "text": [
      "+-------+-----------------+\n",
      "|summary|        sessionId|\n",
      "+-------+-----------------+\n",
      "|  count|           286500|\n",
      "|   mean|1041.526554973822|\n",
      "| stddev|726.7762634630741|\n",
      "|    min|                1|\n",
      "|    max|             2474|\n",
      "+-------+-----------------+\n",
      "\n"
     ]
    },
    {
     "name": "stderr",
     "output_type": "stream",
     "text": [
      "\r",
      "[Stage 59:>                                                         (0 + 1) / 1]\r",
      "\r",
      "                                                                                \r"
     ]
    },
    {
     "name": "stdout",
     "output_type": "stream",
     "text": [
      "+-------+------------------+\n",
      "|summary|            status|\n",
      "+-------+------------------+\n",
      "|  count|            286500|\n",
      "|   mean|210.05459685863875|\n",
      "| stddev| 31.50507848842214|\n",
      "|    min|               200|\n",
      "|    max|               404|\n",
      "+-------+------------------+\n",
      "\n",
      "+-------+--------------------+\n",
      "|summary|                  ts|\n",
      "+-------+--------------------+\n",
      "|  count|              286500|\n",
      "|   mean|1.540956889810483...|\n",
      "| stddev|1.5075439608226302E9|\n",
      "|    min|       1538352117000|\n",
      "|    max|       1543799476000|\n",
      "+-------+--------------------+\n",
      "\n"
     ]
    },
    {
     "name": "stderr",
     "output_type": "stream",
     "text": [
      "\r",
      "[Stage 62:>                                                         (0 + 1) / 1]\r",
      "\r",
      "                                                                                \r"
     ]
    },
    {
     "data": {
      "text/plain": [
       "(None, None, None, None, None, None)"
      ]
     },
     "execution_count": 13,
     "metadata": {},
     "output_type": "execute_result"
    }
   ],
   "source": [
    "# describe numeric columns \n",
    "df.describe('itemInSession').show(), df.describe('length').show(), df.describe('registration').show(),\\\n",
    "df.describe('sessionId').show(), df.describe('status').show(), df.describe('ts').show()"
   ]
  },
  {
   "cell_type": "markdown",
   "metadata": {},
   "source": [
    "#### Clean data"
   ]
  },
  {
   "cell_type": "code",
   "execution_count": 14,
   "metadata": {},
   "outputs": [],
   "source": [
    "# delete rows with missing userID\n",
    "df_clean = df.filter(df['userId']!='')"
   ]
  },
  {
   "cell_type": "code",
   "execution_count": 15,
   "metadata": {
    "scrolled": true
   },
   "outputs": [
    {
     "name": "stderr",
     "output_type": "stream",
     "text": [
      "                                                                                \r"
     ]
    },
    {
     "data": {
      "text/html": [
       "<div>\n",
       "<style scoped>\n",
       "    .dataframe tbody tr th:only-of-type {\n",
       "        vertical-align: middle;\n",
       "    }\n",
       "\n",
       "    .dataframe tbody tr th {\n",
       "        vertical-align: top;\n",
       "    }\n",
       "\n",
       "    .dataframe thead th {\n",
       "        text-align: right;\n",
       "    }\n",
       "</style>\n",
       "<table border=\"1\" class=\"dataframe\">\n",
       "  <thead>\n",
       "    <tr style=\"text-align: right;\">\n",
       "      <th></th>\n",
       "      <th>artist</th>\n",
       "      <th>auth</th>\n",
       "      <th>firstName</th>\n",
       "      <th>gender</th>\n",
       "      <th>itemInSession</th>\n",
       "      <th>lastName</th>\n",
       "      <th>length</th>\n",
       "      <th>level</th>\n",
       "      <th>location</th>\n",
       "      <th>method</th>\n",
       "      <th>page</th>\n",
       "      <th>registration</th>\n",
       "      <th>sessionId</th>\n",
       "      <th>song</th>\n",
       "      <th>status</th>\n",
       "      <th>ts</th>\n",
       "      <th>userAgent</th>\n",
       "      <th>userId</th>\n",
       "    </tr>\n",
       "  </thead>\n",
       "  <tbody>\n",
       "    <tr>\n",
       "      <th>0</th>\n",
       "      <td>50046</td>\n",
       "      <td>0</td>\n",
       "      <td>0</td>\n",
       "      <td>0</td>\n",
       "      <td>0</td>\n",
       "      <td>0</td>\n",
       "      <td>50046</td>\n",
       "      <td>0</td>\n",
       "      <td>0</td>\n",
       "      <td>0</td>\n",
       "      <td>0</td>\n",
       "      <td>0</td>\n",
       "      <td>0</td>\n",
       "      <td>50046</td>\n",
       "      <td>0</td>\n",
       "      <td>0</td>\n",
       "      <td>0</td>\n",
       "      <td>0</td>\n",
       "    </tr>\n",
       "  </tbody>\n",
       "</table>\n",
       "</div>"
      ],
      "text/plain": [
       "   artist  auth  firstName  gender  itemInSession  lastName  length  level  \\\n",
       "0   50046     0          0       0              0         0   50046      0   \n",
       "\n",
       "   location  method  page  registration  sessionId   song  status  ts  \\\n",
       "0         0       0     0             0          0  50046       0   0   \n",
       "\n",
       "   userAgent  userId  \n",
       "0          0       0  "
      ]
     },
     "execution_count": 15,
     "metadata": {},
     "output_type": "execute_result"
    }
   ],
   "source": [
    "# check missing data after cleaning userID column\n",
    "df_clean.select([count(when(isnan(column) | col(column).isNull(), column)).alias(column) for column in df_clean.columns]).toPandas()"
   ]
  },
  {
   "cell_type": "markdown",
   "metadata": {},
   "source": [
    "There are missing data in artist, length and song columns. I will check them in more details"
   ]
  },
  {
   "cell_type": "code",
   "execution_count": 16,
   "metadata": {},
   "outputs": [],
   "source": [
    "df_clean.createOrReplaceTempView(\"tbl_df_clean\")"
   ]
  },
  {
   "cell_type": "code",
   "execution_count": 17,
   "metadata": {},
   "outputs": [],
   "source": [
    "# check if null values in artist, length and song columns are in the same rows\n",
    "df_test = spark.sql('''\n",
    "        SELECT * \n",
    "        FROM tbl_df_clean\n",
    "        where artist is null\n",
    "        \n",
    "        ''')"
   ]
  },
  {
   "cell_type": "code",
   "execution_count": 18,
   "metadata": {},
   "outputs": [
    {
     "name": "stderr",
     "output_type": "stream",
     "text": [
      "                                                                                \r"
     ]
    },
    {
     "data": {
      "text/html": [
       "<div>\n",
       "<style scoped>\n",
       "    .dataframe tbody tr th:only-of-type {\n",
       "        vertical-align: middle;\n",
       "    }\n",
       "\n",
       "    .dataframe tbody tr th {\n",
       "        vertical-align: top;\n",
       "    }\n",
       "\n",
       "    .dataframe thead th {\n",
       "        text-align: right;\n",
       "    }\n",
       "</style>\n",
       "<table border=\"1\" class=\"dataframe\">\n",
       "  <thead>\n",
       "    <tr style=\"text-align: right;\">\n",
       "      <th></th>\n",
       "      <th>artist</th>\n",
       "      <th>auth</th>\n",
       "      <th>firstName</th>\n",
       "      <th>gender</th>\n",
       "      <th>itemInSession</th>\n",
       "      <th>lastName</th>\n",
       "      <th>length</th>\n",
       "      <th>level</th>\n",
       "      <th>location</th>\n",
       "      <th>method</th>\n",
       "      <th>page</th>\n",
       "      <th>registration</th>\n",
       "      <th>sessionId</th>\n",
       "      <th>song</th>\n",
       "      <th>status</th>\n",
       "      <th>ts</th>\n",
       "      <th>userAgent</th>\n",
       "      <th>userId</th>\n",
       "    </tr>\n",
       "  </thead>\n",
       "  <tbody>\n",
       "    <tr>\n",
       "      <th>0</th>\n",
       "      <td>50046</td>\n",
       "      <td>0</td>\n",
       "      <td>0</td>\n",
       "      <td>0</td>\n",
       "      <td>0</td>\n",
       "      <td>0</td>\n",
       "      <td>50046</td>\n",
       "      <td>0</td>\n",
       "      <td>0</td>\n",
       "      <td>0</td>\n",
       "      <td>0</td>\n",
       "      <td>0</td>\n",
       "      <td>0</td>\n",
       "      <td>50046</td>\n",
       "      <td>0</td>\n",
       "      <td>0</td>\n",
       "      <td>0</td>\n",
       "      <td>0</td>\n",
       "    </tr>\n",
       "  </tbody>\n",
       "</table>\n",
       "</div>"
      ],
      "text/plain": [
       "   artist  auth  firstName  gender  itemInSession  lastName  length  level  \\\n",
       "0   50046     0          0       0              0         0   50046      0   \n",
       "\n",
       "   location  method  page  registration  sessionId   song  status  ts  \\\n",
       "0         0       0     0             0          0  50046       0   0   \n",
       "\n",
       "   userAgent  userId  \n",
       "0          0       0  "
      ]
     },
     "execution_count": 18,
     "metadata": {},
     "output_type": "execute_result"
    }
   ],
   "source": [
    "df_test.select([count(when(isnan(column) | col(column).isNull(), column)).alias(column) for column in df_test.columns]).toPandas()"
   ]
  },
  {
   "cell_type": "markdown",
   "metadata": {},
   "source": [
    "All null values in artist, length and song columns are in the same rows. It seems that those users are not listening to the music while using Sparkify. I will keep those rows as they may be important"
   ]
  },
  {
   "cell_type": "code",
   "execution_count": 19,
   "metadata": {},
   "outputs": [],
   "source": [
    "# save userID as number\n",
    "df_clean = df_clean.withColumn('userId', col('userId').cast(LongType()))"
   ]
  },
  {
   "cell_type": "code",
   "execution_count": 20,
   "metadata": {},
   "outputs": [],
   "source": [
    "# split location column. I will take only state name as the location\n",
    "df_clean = df_clean.withColumn('location', split(col('location'),',').getItem(1))"
   ]
  },
  {
   "cell_type": "code",
   "execution_count": 21,
   "metadata": {},
   "outputs": [],
   "source": [
    "# remove special characters from all string columns eg artist\n",
    "def remove_specials(df):\n",
    "    for col in df.schema.fields:\n",
    "        if col.dataType==StringType():\n",
    "            df = df.withColumn(col.name, regexp_replace(col.name, '[^a-zA-Z0-9\\,\\-]', ''))\n",
    "            \n",
    "    return df\n",
    "\n"
   ]
  },
  {
   "cell_type": "code",
   "execution_count": 22,
   "metadata": {},
   "outputs": [],
   "source": [
    "df_clean = remove_specials(df_clean)"
   ]
  },
  {
   "cell_type": "code",
   "execution_count": 23,
   "metadata": {},
   "outputs": [
    {
     "name": "stderr",
     "output_type": "stream",
     "text": [
      "\r",
      "[Stage 71:>                                                         (0 + 1) / 1]\r"
     ]
    },
    {
     "name": "stdout",
     "output_type": "stream",
     "text": [
      "+-------------+\n",
      "|       artist|\n",
      "+-------------+\n",
      "|IsmoAlankoSti|\n",
      "|IsmoAlankoSti|\n",
      "|   IsmoAlanko|\n",
      "|IsmoAlankoSti|\n",
      "|IsmoAlankoSti|\n",
      "|IsmoAlankoSti|\n",
      "|IsmoAlankoSti|\n",
      "|IsmoAlankoSti|\n",
      "|IsmoAlankoSti|\n",
      "|   IsmoAlanko|\n",
      "|IsmoAlankoSti|\n",
      "|IsmoAlankoSti|\n",
      "|IsmoAlankoSti|\n",
      "|IsmoAlankoSti|\n",
      "|IsmoAlankoSti|\n",
      "|IsmoAlankoSti|\n",
      "|   IsmoAlanko|\n",
      "|IsmoAlankoSti|\n",
      "|IsmoAlankoSti|\n",
      "|IsmoAlankoSti|\n",
      "+-------------+\n",
      "only showing top 20 rows\n",
      "\n"
     ]
    },
    {
     "name": "stderr",
     "output_type": "stream",
     "text": [
      "\r",
      "                                                                                \r"
     ]
    }
   ],
   "source": [
    "# check for artist clumn\n",
    "df_clean.select('artist').filter(df_clean.artist.like('%Ismo%')).show()"
   ]
  },
  {
   "cell_type": "code",
   "execution_count": 24,
   "metadata": {},
   "outputs": [],
   "source": [
    "# create new ts columns. Those will be used later to calculate new features\n",
    "# 1. ts_new - more readable date\n",
    "df_clean = df_clean.withColumn('ts_new', from_unixtime(col('ts').cast(LongType())/1000).cast(TimestampType()))\n",
    "# 2. month\n",
    "df_clean = df_clean.withColumn('month', month(col('ts_new')))\n",
    "# 3. date\n",
    "df_clean = df_clean.withColumn('date', from_unixtime(col('ts')/1000).cast(DateType()))"
   ]
  },
  {
   "cell_type": "code",
   "execution_count": 25,
   "metadata": {},
   "outputs": [],
   "source": [
    "# create new registration column for better readibility\n",
    "df_clean = df_clean.withColumn('registration_new', from_unixtime(col('registration').cast(LongType())/1000).cast(TimestampType()))"
   ]
  },
  {
   "cell_type": "code",
   "execution_count": 26,
   "metadata": {},
   "outputs": [
    {
     "name": "stderr",
     "output_type": "stream",
     "text": [
      "                                                                                \r"
     ]
    },
    {
     "data": {
      "text/html": [
       "<div>\n",
       "<style scoped>\n",
       "    .dataframe tbody tr th:only-of-type {\n",
       "        vertical-align: middle;\n",
       "    }\n",
       "\n",
       "    .dataframe tbody tr th {\n",
       "        vertical-align: top;\n",
       "    }\n",
       "\n",
       "    .dataframe thead th {\n",
       "        text-align: right;\n",
       "    }\n",
       "</style>\n",
       "<table border=\"1\" class=\"dataframe\">\n",
       "  <thead>\n",
       "    <tr style=\"text-align: right;\">\n",
       "      <th></th>\n",
       "      <th>artist</th>\n",
       "      <th>auth</th>\n",
       "      <th>firstName</th>\n",
       "      <th>gender</th>\n",
       "      <th>itemInSession</th>\n",
       "      <th>lastName</th>\n",
       "      <th>length</th>\n",
       "      <th>level</th>\n",
       "      <th>location</th>\n",
       "      <th>method</th>\n",
       "      <th>...</th>\n",
       "      <th>sessionId</th>\n",
       "      <th>song</th>\n",
       "      <th>status</th>\n",
       "      <th>ts</th>\n",
       "      <th>userAgent</th>\n",
       "      <th>userId</th>\n",
       "      <th>ts_new</th>\n",
       "      <th>month</th>\n",
       "      <th>date</th>\n",
       "      <th>registration_new</th>\n",
       "    </tr>\n",
       "  </thead>\n",
       "  <tbody>\n",
       "    <tr>\n",
       "      <th>0</th>\n",
       "      <td>MarthaTilston</td>\n",
       "      <td>LoggedIn</td>\n",
       "      <td>Colin</td>\n",
       "      <td>M</td>\n",
       "      <td>50</td>\n",
       "      <td>Freeman</td>\n",
       "      <td>277.89016</td>\n",
       "      <td>paid</td>\n",
       "      <td>CA</td>\n",
       "      <td>PUT</td>\n",
       "      <td>...</td>\n",
       "      <td>29</td>\n",
       "      <td>Rockpools</td>\n",
       "      <td>200</td>\n",
       "      <td>1538352117000</td>\n",
       "      <td>Mozilla50WindowsNT61WOW64rv310Gecko20100101Fir...</td>\n",
       "      <td>30</td>\n",
       "      <td>2018-10-01 00:01:57</td>\n",
       "      <td>10</td>\n",
       "      <td>2018-10-01</td>\n",
       "      <td>2018-09-28 22:22:42</td>\n",
       "    </tr>\n",
       "    <tr>\n",
       "      <th>1</th>\n",
       "      <td>FiveIronFrenzy</td>\n",
       "      <td>LoggedIn</td>\n",
       "      <td>Micah</td>\n",
       "      <td>M</td>\n",
       "      <td>79</td>\n",
       "      <td>Long</td>\n",
       "      <td>236.09424</td>\n",
       "      <td>free</td>\n",
       "      <td>MA-NH</td>\n",
       "      <td>PUT</td>\n",
       "      <td>...</td>\n",
       "      <td>8</td>\n",
       "      <td>Canada</td>\n",
       "      <td>200</td>\n",
       "      <td>1538352180000</td>\n",
       "      <td>Mozilla50WindowsNT61WOW64AppleWebKit53736KHTML...</td>\n",
       "      <td>9</td>\n",
       "      <td>2018-10-01 00:03:00</td>\n",
       "      <td>10</td>\n",
       "      <td>2018-10-01</td>\n",
       "      <td>2018-09-30 18:20:30</td>\n",
       "    </tr>\n",
       "    <tr>\n",
       "      <th>2</th>\n",
       "      <td>AdamLambert</td>\n",
       "      <td>LoggedIn</td>\n",
       "      <td>Colin</td>\n",
       "      <td>M</td>\n",
       "      <td>51</td>\n",
       "      <td>Freeman</td>\n",
       "      <td>282.82730</td>\n",
       "      <td>paid</td>\n",
       "      <td>CA</td>\n",
       "      <td>PUT</td>\n",
       "      <td>...</td>\n",
       "      <td>29</td>\n",
       "      <td>TimeForMiracles</td>\n",
       "      <td>200</td>\n",
       "      <td>1538352394000</td>\n",
       "      <td>Mozilla50WindowsNT61WOW64rv310Gecko20100101Fir...</td>\n",
       "      <td>30</td>\n",
       "      <td>2018-10-01 00:06:34</td>\n",
       "      <td>10</td>\n",
       "      <td>2018-10-01</td>\n",
       "      <td>2018-09-28 22:22:42</td>\n",
       "    </tr>\n",
       "    <tr>\n",
       "      <th>3</th>\n",
       "      <td>Enigma</td>\n",
       "      <td>LoggedIn</td>\n",
       "      <td>Micah</td>\n",
       "      <td>M</td>\n",
       "      <td>80</td>\n",
       "      <td>Long</td>\n",
       "      <td>262.71302</td>\n",
       "      <td>free</td>\n",
       "      <td>MA-NH</td>\n",
       "      <td>PUT</td>\n",
       "      <td>...</td>\n",
       "      <td>8</td>\n",
       "      <td>KnockingOnForbiddenDoors</td>\n",
       "      <td>200</td>\n",
       "      <td>1538352416000</td>\n",
       "      <td>Mozilla50WindowsNT61WOW64AppleWebKit53736KHTML...</td>\n",
       "      <td>9</td>\n",
       "      <td>2018-10-01 00:06:56</td>\n",
       "      <td>10</td>\n",
       "      <td>2018-10-01</td>\n",
       "      <td>2018-09-30 18:20:30</td>\n",
       "    </tr>\n",
       "  </tbody>\n",
       "</table>\n",
       "<p>4 rows × 22 columns</p>\n",
       "</div>"
      ],
      "text/plain": [
       "           artist      auth firstName gender  itemInSession lastName  \\\n",
       "0   MarthaTilston  LoggedIn     Colin      M             50  Freeman   \n",
       "1  FiveIronFrenzy  LoggedIn     Micah      M             79     Long   \n",
       "2     AdamLambert  LoggedIn     Colin      M             51  Freeman   \n",
       "3          Enigma  LoggedIn     Micah      M             80     Long   \n",
       "\n",
       "      length level location method  ... sessionId                      song  \\\n",
       "0  277.89016  paid       CA    PUT  ...        29                 Rockpools   \n",
       "1  236.09424  free    MA-NH    PUT  ...         8                    Canada   \n",
       "2  282.82730  paid       CA    PUT  ...        29           TimeForMiracles   \n",
       "3  262.71302  free    MA-NH    PUT  ...         8  KnockingOnForbiddenDoors   \n",
       "\n",
       "   status             ts                                          userAgent  \\\n",
       "0     200  1538352117000  Mozilla50WindowsNT61WOW64rv310Gecko20100101Fir...   \n",
       "1     200  1538352180000  Mozilla50WindowsNT61WOW64AppleWebKit53736KHTML...   \n",
       "2     200  1538352394000  Mozilla50WindowsNT61WOW64rv310Gecko20100101Fir...   \n",
       "3     200  1538352416000  Mozilla50WindowsNT61WOW64AppleWebKit53736KHTML...   \n",
       "\n",
       "   userId              ts_new  month        date    registration_new  \n",
       "0      30 2018-10-01 00:01:57     10  2018-10-01 2018-09-28 22:22:42  \n",
       "1       9 2018-10-01 00:03:00     10  2018-10-01 2018-09-30 18:20:30  \n",
       "2      30 2018-10-01 00:06:34     10  2018-10-01 2018-09-28 22:22:42  \n",
       "3       9 2018-10-01 00:06:56     10  2018-10-01 2018-09-30 18:20:30  \n",
       "\n",
       "[4 rows x 22 columns]"
      ]
     },
     "execution_count": 26,
     "metadata": {},
     "output_type": "execute_result"
    }
   ],
   "source": [
    "df_clean.toPandas().head(4)"
   ]
  },
  {
   "cell_type": "markdown",
   "metadata": {},
   "source": [
    "### Define churn"
   ]
  },
  {
   "cell_type": "code",
   "execution_count": 27,
   "metadata": {},
   "outputs": [],
   "source": [
    "df_clean.createOrReplaceTempView(\"tbl_df_clean\")"
   ]
  },
  {
   "cell_type": "code",
   "execution_count": 28,
   "metadata": {},
   "outputs": [],
   "source": [
    "# define churn using Cancellation Confirmation values in page column. \n",
    "# If a user eves had Cancellation Confirmation status then it is a churn.\n",
    "# 1- churn, 0- not churn\n",
    "\n",
    "df_churn = spark.sql('''\n",
    "        SELECT userId,\n",
    "               MAX(IF(page = \"CancellationConfirmation\",1,0)) as churn\n",
    "        FROM tbl_df_clean\n",
    "        GROUP BY userId\n",
    "        \n",
    "        ''')\n",
    "df_churn.createOrReplaceTempView(\"tbl_df_churn\")"
   ]
  },
  {
   "cell_type": "code",
   "execution_count": 29,
   "metadata": {},
   "outputs": [],
   "source": [
    "# merge churn column with df_clean\n",
    "df_clean = spark.sql('''\n",
    "        SELECT a.*, b.churn\n",
    "        FROM tbl_df_clean a\n",
    "        LEFT JOIN tbl_df_churn b on a.userId = b.userId       \n",
    "        ''')\n",
    "df_clean.createOrReplaceTempView(\"tbl_df_clean\")"
   ]
  },
  {
   "cell_type": "code",
   "execution_count": 30,
   "metadata": {},
   "outputs": [
    {
     "name": "stderr",
     "output_type": "stream",
     "text": [
      "                                                                                \r"
     ]
    },
    {
     "data": {
      "text/html": [
       "<div>\n",
       "<style scoped>\n",
       "    .dataframe tbody tr th:only-of-type {\n",
       "        vertical-align: middle;\n",
       "    }\n",
       "\n",
       "    .dataframe tbody tr th {\n",
       "        vertical-align: top;\n",
       "    }\n",
       "\n",
       "    .dataframe thead th {\n",
       "        text-align: right;\n",
       "    }\n",
       "</style>\n",
       "<table border=\"1\" class=\"dataframe\">\n",
       "  <thead>\n",
       "    <tr style=\"text-align: right;\">\n",
       "      <th></th>\n",
       "      <th>artist</th>\n",
       "      <th>auth</th>\n",
       "      <th>firstName</th>\n",
       "      <th>gender</th>\n",
       "      <th>itemInSession</th>\n",
       "      <th>lastName</th>\n",
       "      <th>length</th>\n",
       "      <th>level</th>\n",
       "      <th>location</th>\n",
       "      <th>method</th>\n",
       "      <th>...</th>\n",
       "      <th>song</th>\n",
       "      <th>status</th>\n",
       "      <th>ts</th>\n",
       "      <th>userAgent</th>\n",
       "      <th>userId</th>\n",
       "      <th>ts_new</th>\n",
       "      <th>month</th>\n",
       "      <th>date</th>\n",
       "      <th>registration_new</th>\n",
       "      <th>churn</th>\n",
       "    </tr>\n",
       "  </thead>\n",
       "  <tbody>\n",
       "    <tr>\n",
       "      <th>0</th>\n",
       "      <td>None</td>\n",
       "      <td>LoggedIn</td>\n",
       "      <td>Ethan</td>\n",
       "      <td>M</td>\n",
       "      <td>6</td>\n",
       "      <td>Johnson</td>\n",
       "      <td>NaN</td>\n",
       "      <td>paid</td>\n",
       "      <td>KY</td>\n",
       "      <td>GET</td>\n",
       "      <td>...</td>\n",
       "      <td>None</td>\n",
       "      <td>200</td>\n",
       "      <td>1538398632000</td>\n",
       "      <td>Mozilla50WindowsNT61WOW64AppleWebKit53736KHTML...</td>\n",
       "      <td>51</td>\n",
       "      <td>2018-10-01 12:57:12</td>\n",
       "      <td>10</td>\n",
       "      <td>2018-10-01</td>\n",
       "      <td>2018-09-27 20:43:07</td>\n",
       "      <td>1</td>\n",
       "    </tr>\n",
       "    <tr>\n",
       "      <th>1</th>\n",
       "      <td>ErykahBadu</td>\n",
       "      <td>LoggedIn</td>\n",
       "      <td>Ethan</td>\n",
       "      <td>M</td>\n",
       "      <td>7</td>\n",
       "      <td>Johnson</td>\n",
       "      <td>289.69751</td>\n",
       "      <td>paid</td>\n",
       "      <td>KY</td>\n",
       "      <td>PUT</td>\n",
       "      <td>...</td>\n",
       "      <td>WindowSeat</td>\n",
       "      <td>200</td>\n",
       "      <td>1538398649000</td>\n",
       "      <td>Mozilla50WindowsNT61WOW64AppleWebKit53736KHTML...</td>\n",
       "      <td>51</td>\n",
       "      <td>2018-10-01 12:57:29</td>\n",
       "      <td>10</td>\n",
       "      <td>2018-10-01</td>\n",
       "      <td>2018-09-27 20:43:07</td>\n",
       "      <td>1</td>\n",
       "    </tr>\n",
       "    <tr>\n",
       "      <th>2</th>\n",
       "      <td>Blf</td>\n",
       "      <td>LoggedIn</td>\n",
       "      <td>Ethan</td>\n",
       "      <td>M</td>\n",
       "      <td>8</td>\n",
       "      <td>Johnson</td>\n",
       "      <td>229.82485</td>\n",
       "      <td>paid</td>\n",
       "      <td>KY</td>\n",
       "      <td>PUT</td>\n",
       "      <td>...</td>\n",
       "      <td>NietsDanDit</td>\n",
       "      <td>200</td>\n",
       "      <td>1538398938000</td>\n",
       "      <td>Mozilla50WindowsNT61WOW64AppleWebKit53736KHTML...</td>\n",
       "      <td>51</td>\n",
       "      <td>2018-10-01 13:02:18</td>\n",
       "      <td>10</td>\n",
       "      <td>2018-10-01</td>\n",
       "      <td>2018-09-27 20:43:07</td>\n",
       "      <td>1</td>\n",
       "    </tr>\n",
       "    <tr>\n",
       "      <th>3</th>\n",
       "      <td>MousseTVsHotnJuicy</td>\n",
       "      <td>LoggedIn</td>\n",
       "      <td>Ethan</td>\n",
       "      <td>M</td>\n",
       "      <td>9</td>\n",
       "      <td>Johnson</td>\n",
       "      <td>184.29342</td>\n",
       "      <td>paid</td>\n",
       "      <td>KY</td>\n",
       "      <td>PUT</td>\n",
       "      <td>...</td>\n",
       "      <td>Horny</td>\n",
       "      <td>200</td>\n",
       "      <td>1538399167000</td>\n",
       "      <td>Mozilla50WindowsNT61WOW64AppleWebKit53736KHTML...</td>\n",
       "      <td>51</td>\n",
       "      <td>2018-10-01 13:06:07</td>\n",
       "      <td>10</td>\n",
       "      <td>2018-10-01</td>\n",
       "      <td>2018-09-27 20:43:07</td>\n",
       "      <td>1</td>\n",
       "    </tr>\n",
       "    <tr>\n",
       "      <th>4</th>\n",
       "      <td>MirandaLambert</td>\n",
       "      <td>LoggedIn</td>\n",
       "      <td>Ethan</td>\n",
       "      <td>M</td>\n",
       "      <td>10</td>\n",
       "      <td>Johnson</td>\n",
       "      <td>144.14322</td>\n",
       "      <td>paid</td>\n",
       "      <td>KY</td>\n",
       "      <td>PUT</td>\n",
       "      <td>...</td>\n",
       "      <td>MeandYourCigarettes</td>\n",
       "      <td>200</td>\n",
       "      <td>1538399351000</td>\n",
       "      <td>Mozilla50WindowsNT61WOW64AppleWebKit53736KHTML...</td>\n",
       "      <td>51</td>\n",
       "      <td>2018-10-01 13:09:11</td>\n",
       "      <td>10</td>\n",
       "      <td>2018-10-01</td>\n",
       "      <td>2018-09-27 20:43:07</td>\n",
       "      <td>1</td>\n",
       "    </tr>\n",
       "    <tr>\n",
       "      <th>...</th>\n",
       "      <td>...</td>\n",
       "      <td>...</td>\n",
       "      <td>...</td>\n",
       "      <td>...</td>\n",
       "      <td>...</td>\n",
       "      <td>...</td>\n",
       "      <td>...</td>\n",
       "      <td>...</td>\n",
       "      <td>...</td>\n",
       "      <td>...</td>\n",
       "      <td>...</td>\n",
       "      <td>...</td>\n",
       "      <td>...</td>\n",
       "      <td>...</td>\n",
       "      <td>...</td>\n",
       "      <td>...</td>\n",
       "      <td>...</td>\n",
       "      <td>...</td>\n",
       "      <td>...</td>\n",
       "      <td>...</td>\n",
       "      <td>...</td>\n",
       "    </tr>\n",
       "    <tr>\n",
       "      <th>2459</th>\n",
       "      <td>IsmoAlankoSti</td>\n",
       "      <td>LoggedIn</td>\n",
       "      <td>Ethan</td>\n",
       "      <td>M</td>\n",
       "      <td>172</td>\n",
       "      <td>Johnson</td>\n",
       "      <td>218.93179</td>\n",
       "      <td>paid</td>\n",
       "      <td>KY</td>\n",
       "      <td>PUT</td>\n",
       "      <td>...</td>\n",
       "      <td>NokianTakana</td>\n",
       "      <td>200</td>\n",
       "      <td>1539761508000</td>\n",
       "      <td>Mozilla50WindowsNT61WOW64AppleWebKit53736KHTML...</td>\n",
       "      <td>51</td>\n",
       "      <td>2018-10-17 07:31:48</td>\n",
       "      <td>10</td>\n",
       "      <td>2018-10-17</td>\n",
       "      <td>2018-09-27 20:43:07</td>\n",
       "      <td>1</td>\n",
       "    </tr>\n",
       "    <tr>\n",
       "      <th>2460</th>\n",
       "      <td>Zox</td>\n",
       "      <td>LoggedIn</td>\n",
       "      <td>Ethan</td>\n",
       "      <td>M</td>\n",
       "      <td>173</td>\n",
       "      <td>Johnson</td>\n",
       "      <td>212.34893</td>\n",
       "      <td>paid</td>\n",
       "      <td>KY</td>\n",
       "      <td>PUT</td>\n",
       "      <td>...</td>\n",
       "      <td>CantLookDown</td>\n",
       "      <td>200</td>\n",
       "      <td>1539761726000</td>\n",
       "      <td>Mozilla50WindowsNT61WOW64AppleWebKit53736KHTML...</td>\n",
       "      <td>51</td>\n",
       "      <td>2018-10-17 07:35:26</td>\n",
       "      <td>10</td>\n",
       "      <td>2018-10-17</td>\n",
       "      <td>2018-09-27 20:43:07</td>\n",
       "      <td>1</td>\n",
       "    </tr>\n",
       "    <tr>\n",
       "      <th>2461</th>\n",
       "      <td>None</td>\n",
       "      <td>LoggedIn</td>\n",
       "      <td>Ethan</td>\n",
       "      <td>M</td>\n",
       "      <td>174</td>\n",
       "      <td>Johnson</td>\n",
       "      <td>NaN</td>\n",
       "      <td>paid</td>\n",
       "      <td>KY</td>\n",
       "      <td>GET</td>\n",
       "      <td>...</td>\n",
       "      <td>None</td>\n",
       "      <td>200</td>\n",
       "      <td>1539761829000</td>\n",
       "      <td>Mozilla50WindowsNT61WOW64AppleWebKit53736KHTML...</td>\n",
       "      <td>51</td>\n",
       "      <td>2018-10-17 07:37:09</td>\n",
       "      <td>10</td>\n",
       "      <td>2018-10-17</td>\n",
       "      <td>2018-09-27 20:43:07</td>\n",
       "      <td>1</td>\n",
       "    </tr>\n",
       "    <tr>\n",
       "      <th>2462</th>\n",
       "      <td>None</td>\n",
       "      <td>LoggedIn</td>\n",
       "      <td>Ethan</td>\n",
       "      <td>M</td>\n",
       "      <td>175</td>\n",
       "      <td>Johnson</td>\n",
       "      <td>NaN</td>\n",
       "      <td>paid</td>\n",
       "      <td>KY</td>\n",
       "      <td>PUT</td>\n",
       "      <td>...</td>\n",
       "      <td>None</td>\n",
       "      <td>307</td>\n",
       "      <td>1539761830000</td>\n",
       "      <td>Mozilla50WindowsNT61WOW64AppleWebKit53736KHTML...</td>\n",
       "      <td>51</td>\n",
       "      <td>2018-10-17 07:37:10</td>\n",
       "      <td>10</td>\n",
       "      <td>2018-10-17</td>\n",
       "      <td>2018-09-27 20:43:07</td>\n",
       "      <td>1</td>\n",
       "    </tr>\n",
       "    <tr>\n",
       "      <th>2463</th>\n",
       "      <td>None</td>\n",
       "      <td>Cancelled</td>\n",
       "      <td>Ethan</td>\n",
       "      <td>M</td>\n",
       "      <td>176</td>\n",
       "      <td>Johnson</td>\n",
       "      <td>NaN</td>\n",
       "      <td>paid</td>\n",
       "      <td>KY</td>\n",
       "      <td>GET</td>\n",
       "      <td>...</td>\n",
       "      <td>None</td>\n",
       "      <td>200</td>\n",
       "      <td>1539761972000</td>\n",
       "      <td>Mozilla50WindowsNT61WOW64AppleWebKit53736KHTML...</td>\n",
       "      <td>51</td>\n",
       "      <td>2018-10-17 07:39:32</td>\n",
       "      <td>10</td>\n",
       "      <td>2018-10-17</td>\n",
       "      <td>2018-09-27 20:43:07</td>\n",
       "      <td>1</td>\n",
       "    </tr>\n",
       "  </tbody>\n",
       "</table>\n",
       "<p>2464 rows × 23 columns</p>\n",
       "</div>"
      ],
      "text/plain": [
       "                  artist       auth firstName gender  itemInSession lastName  \\\n",
       "0                   None   LoggedIn     Ethan      M              6  Johnson   \n",
       "1             ErykahBadu   LoggedIn     Ethan      M              7  Johnson   \n",
       "2                    Blf   LoggedIn     Ethan      M              8  Johnson   \n",
       "3     MousseTVsHotnJuicy   LoggedIn     Ethan      M              9  Johnson   \n",
       "4         MirandaLambert   LoggedIn     Ethan      M             10  Johnson   \n",
       "...                  ...        ...       ...    ...            ...      ...   \n",
       "2459       IsmoAlankoSti   LoggedIn     Ethan      M            172  Johnson   \n",
       "2460                 Zox   LoggedIn     Ethan      M            173  Johnson   \n",
       "2461                None   LoggedIn     Ethan      M            174  Johnson   \n",
       "2462                None   LoggedIn     Ethan      M            175  Johnson   \n",
       "2463                None  Cancelled     Ethan      M            176  Johnson   \n",
       "\n",
       "         length level location method  ...                 song  status  \\\n",
       "0           NaN  paid       KY    GET  ...                 None     200   \n",
       "1     289.69751  paid       KY    PUT  ...           WindowSeat     200   \n",
       "2     229.82485  paid       KY    PUT  ...          NietsDanDit     200   \n",
       "3     184.29342  paid       KY    PUT  ...                Horny     200   \n",
       "4     144.14322  paid       KY    PUT  ...  MeandYourCigarettes     200   \n",
       "...         ...   ...      ...    ...  ...                  ...     ...   \n",
       "2459  218.93179  paid       KY    PUT  ...         NokianTakana     200   \n",
       "2460  212.34893  paid       KY    PUT  ...         CantLookDown     200   \n",
       "2461        NaN  paid       KY    GET  ...                 None     200   \n",
       "2462        NaN  paid       KY    PUT  ...                 None     307   \n",
       "2463        NaN  paid       KY    GET  ...                 None     200   \n",
       "\n",
       "                 ts                                          userAgent  \\\n",
       "0     1538398632000  Mozilla50WindowsNT61WOW64AppleWebKit53736KHTML...   \n",
       "1     1538398649000  Mozilla50WindowsNT61WOW64AppleWebKit53736KHTML...   \n",
       "2     1538398938000  Mozilla50WindowsNT61WOW64AppleWebKit53736KHTML...   \n",
       "3     1538399167000  Mozilla50WindowsNT61WOW64AppleWebKit53736KHTML...   \n",
       "4     1538399351000  Mozilla50WindowsNT61WOW64AppleWebKit53736KHTML...   \n",
       "...             ...                                                ...   \n",
       "2459  1539761508000  Mozilla50WindowsNT61WOW64AppleWebKit53736KHTML...   \n",
       "2460  1539761726000  Mozilla50WindowsNT61WOW64AppleWebKit53736KHTML...   \n",
       "2461  1539761829000  Mozilla50WindowsNT61WOW64AppleWebKit53736KHTML...   \n",
       "2462  1539761830000  Mozilla50WindowsNT61WOW64AppleWebKit53736KHTML...   \n",
       "2463  1539761972000  Mozilla50WindowsNT61WOW64AppleWebKit53736KHTML...   \n",
       "\n",
       "      userId              ts_new month        date    registration_new  churn  \n",
       "0         51 2018-10-01 12:57:12    10  2018-10-01 2018-09-27 20:43:07      1  \n",
       "1         51 2018-10-01 12:57:29    10  2018-10-01 2018-09-27 20:43:07      1  \n",
       "2         51 2018-10-01 13:02:18    10  2018-10-01 2018-09-27 20:43:07      1  \n",
       "3         51 2018-10-01 13:06:07    10  2018-10-01 2018-09-27 20:43:07      1  \n",
       "4         51 2018-10-01 13:09:11    10  2018-10-01 2018-09-27 20:43:07      1  \n",
       "...      ...                 ...   ...         ...                 ...    ...  \n",
       "2459      51 2018-10-17 07:31:48    10  2018-10-17 2018-09-27 20:43:07      1  \n",
       "2460      51 2018-10-17 07:35:26    10  2018-10-17 2018-09-27 20:43:07      1  \n",
       "2461      51 2018-10-17 07:37:09    10  2018-10-17 2018-09-27 20:43:07      1  \n",
       "2462      51 2018-10-17 07:37:10    10  2018-10-17 2018-09-27 20:43:07      1  \n",
       "2463      51 2018-10-17 07:39:32    10  2018-10-17 2018-09-27 20:43:07      1  \n",
       "\n",
       "[2464 rows x 23 columns]"
      ]
     },
     "execution_count": 30,
     "metadata": {},
     "output_type": "execute_result"
    }
   ],
   "source": [
    "# check df_clean for particular users\n",
    "spark.sql('''\n",
    "        SELECT *\n",
    "        FROM tbl_df_clean\n",
    "        where userId = 51\n",
    "        \n",
    "        ''').toPandas()"
   ]
  },
  {
   "cell_type": "code",
   "execution_count": 31,
   "metadata": {},
   "outputs": [
    {
     "name": "stderr",
     "output_type": "stream",
     "text": [
      "                                                                                \r"
     ]
    },
    {
     "data": {
      "text/html": [
       "<div>\n",
       "<style scoped>\n",
       "    .dataframe tbody tr th:only-of-type {\n",
       "        vertical-align: middle;\n",
       "    }\n",
       "\n",
       "    .dataframe tbody tr th {\n",
       "        vertical-align: top;\n",
       "    }\n",
       "\n",
       "    .dataframe thead th {\n",
       "        text-align: right;\n",
       "    }\n",
       "</style>\n",
       "<table border=\"1\" class=\"dataframe\">\n",
       "  <thead>\n",
       "    <tr style=\"text-align: right;\">\n",
       "      <th></th>\n",
       "      <th>artist</th>\n",
       "      <th>auth</th>\n",
       "      <th>firstName</th>\n",
       "      <th>gender</th>\n",
       "      <th>itemInSession</th>\n",
       "      <th>lastName</th>\n",
       "      <th>length</th>\n",
       "      <th>level</th>\n",
       "      <th>location</th>\n",
       "      <th>method</th>\n",
       "      <th>...</th>\n",
       "      <th>song</th>\n",
       "      <th>status</th>\n",
       "      <th>ts</th>\n",
       "      <th>userAgent</th>\n",
       "      <th>userId</th>\n",
       "      <th>ts_new</th>\n",
       "      <th>month</th>\n",
       "      <th>date</th>\n",
       "      <th>registration_new</th>\n",
       "      <th>churn</th>\n",
       "    </tr>\n",
       "  </thead>\n",
       "  <tbody>\n",
       "    <tr>\n",
       "      <th>0</th>\n",
       "      <td>FiveIronFrenzy</td>\n",
       "      <td>LoggedIn</td>\n",
       "      <td>Micah</td>\n",
       "      <td>M</td>\n",
       "      <td>79</td>\n",
       "      <td>Long</td>\n",
       "      <td>236.09424</td>\n",
       "      <td>free</td>\n",
       "      <td>MA-NH</td>\n",
       "      <td>PUT</td>\n",
       "      <td>...</td>\n",
       "      <td>Canada</td>\n",
       "      <td>200</td>\n",
       "      <td>1538352180000</td>\n",
       "      <td>Mozilla50WindowsNT61WOW64AppleWebKit53736KHTML...</td>\n",
       "      <td>9</td>\n",
       "      <td>2018-10-01 00:03:00</td>\n",
       "      <td>10</td>\n",
       "      <td>2018-10-01</td>\n",
       "      <td>2018-09-30 18:20:30</td>\n",
       "      <td>0</td>\n",
       "    </tr>\n",
       "    <tr>\n",
       "      <th>1</th>\n",
       "      <td>Enigma</td>\n",
       "      <td>LoggedIn</td>\n",
       "      <td>Micah</td>\n",
       "      <td>M</td>\n",
       "      <td>80</td>\n",
       "      <td>Long</td>\n",
       "      <td>262.71302</td>\n",
       "      <td>free</td>\n",
       "      <td>MA-NH</td>\n",
       "      <td>PUT</td>\n",
       "      <td>...</td>\n",
       "      <td>KnockingOnForbiddenDoors</td>\n",
       "      <td>200</td>\n",
       "      <td>1538352416000</td>\n",
       "      <td>Mozilla50WindowsNT61WOW64AppleWebKit53736KHTML...</td>\n",
       "      <td>9</td>\n",
       "      <td>2018-10-01 00:06:56</td>\n",
       "      <td>10</td>\n",
       "      <td>2018-10-01</td>\n",
       "      <td>2018-09-30 18:20:30</td>\n",
       "      <td>0</td>\n",
       "    </tr>\n",
       "    <tr>\n",
       "      <th>2</th>\n",
       "      <td>TheAll-AmericanRejects</td>\n",
       "      <td>LoggedIn</td>\n",
       "      <td>Micah</td>\n",
       "      <td>M</td>\n",
       "      <td>81</td>\n",
       "      <td>Long</td>\n",
       "      <td>208.29995</td>\n",
       "      <td>free</td>\n",
       "      <td>MA-NH</td>\n",
       "      <td>PUT</td>\n",
       "      <td>...</td>\n",
       "      <td>DontLeaveMe</td>\n",
       "      <td>200</td>\n",
       "      <td>1538352678000</td>\n",
       "      <td>Mozilla50WindowsNT61WOW64AppleWebKit53736KHTML...</td>\n",
       "      <td>9</td>\n",
       "      <td>2018-10-01 00:11:18</td>\n",
       "      <td>10</td>\n",
       "      <td>2018-10-01</td>\n",
       "      <td>2018-09-30 18:20:30</td>\n",
       "      <td>0</td>\n",
       "    </tr>\n",
       "    <tr>\n",
       "      <th>3</th>\n",
       "      <td>TheVelvetUndergroundNico</td>\n",
       "      <td>LoggedIn</td>\n",
       "      <td>Micah</td>\n",
       "      <td>M</td>\n",
       "      <td>82</td>\n",
       "      <td>Long</td>\n",
       "      <td>260.46649</td>\n",
       "      <td>free</td>\n",
       "      <td>MA-NH</td>\n",
       "      <td>PUT</td>\n",
       "      <td>...</td>\n",
       "      <td>RunRunRun</td>\n",
       "      <td>200</td>\n",
       "      <td>1538352886000</td>\n",
       "      <td>Mozilla50WindowsNT61WOW64AppleWebKit53736KHTML...</td>\n",
       "      <td>9</td>\n",
       "      <td>2018-10-01 00:14:46</td>\n",
       "      <td>10</td>\n",
       "      <td>2018-10-01</td>\n",
       "      <td>2018-09-30 18:20:30</td>\n",
       "      <td>0</td>\n",
       "    </tr>\n",
       "    <tr>\n",
       "      <th>4</th>\n",
       "      <td>BrittNicole</td>\n",
       "      <td>LoggedIn</td>\n",
       "      <td>Micah</td>\n",
       "      <td>M</td>\n",
       "      <td>83</td>\n",
       "      <td>Long</td>\n",
       "      <td>229.87710</td>\n",
       "      <td>free</td>\n",
       "      <td>MA-NH</td>\n",
       "      <td>PUT</td>\n",
       "      <td>...</td>\n",
       "      <td>WalkOnTheWater</td>\n",
       "      <td>200</td>\n",
       "      <td>1538353146000</td>\n",
       "      <td>Mozilla50WindowsNT61WOW64AppleWebKit53736KHTML...</td>\n",
       "      <td>9</td>\n",
       "      <td>2018-10-01 00:19:06</td>\n",
       "      <td>10</td>\n",
       "      <td>2018-10-01</td>\n",
       "      <td>2018-09-30 18:20:30</td>\n",
       "      <td>0</td>\n",
       "    </tr>\n",
       "    <tr>\n",
       "      <th>...</th>\n",
       "      <td>...</td>\n",
       "      <td>...</td>\n",
       "      <td>...</td>\n",
       "      <td>...</td>\n",
       "      <td>...</td>\n",
       "      <td>...</td>\n",
       "      <td>...</td>\n",
       "      <td>...</td>\n",
       "      <td>...</td>\n",
       "      <td>...</td>\n",
       "      <td>...</td>\n",
       "      <td>...</td>\n",
       "      <td>...</td>\n",
       "      <td>...</td>\n",
       "      <td>...</td>\n",
       "      <td>...</td>\n",
       "      <td>...</td>\n",
       "      <td>...</td>\n",
       "      <td>...</td>\n",
       "      <td>...</td>\n",
       "      <td>...</td>\n",
       "    </tr>\n",
       "    <tr>\n",
       "      <th>3186</th>\n",
       "      <td>ATeens</td>\n",
       "      <td>LoggedIn</td>\n",
       "      <td>Micah</td>\n",
       "      <td>M</td>\n",
       "      <td>148</td>\n",
       "      <td>Long</td>\n",
       "      <td>223.47710</td>\n",
       "      <td>paid</td>\n",
       "      <td>MA-NH</td>\n",
       "      <td>PUT</td>\n",
       "      <td>...</td>\n",
       "      <td>MammaMia</td>\n",
       "      <td>200</td>\n",
       "      <td>1543337772000</td>\n",
       "      <td>Mozilla50WindowsNT61WOW64AppleWebKit53736KHTML...</td>\n",
       "      <td>9</td>\n",
       "      <td>2018-11-27 16:56:12</td>\n",
       "      <td>11</td>\n",
       "      <td>2018-11-27</td>\n",
       "      <td>2018-09-30 18:20:30</td>\n",
       "      <td>0</td>\n",
       "    </tr>\n",
       "    <tr>\n",
       "      <th>3187</th>\n",
       "      <td>IrishTenors</td>\n",
       "      <td>LoggedIn</td>\n",
       "      <td>Micah</td>\n",
       "      <td>M</td>\n",
       "      <td>149</td>\n",
       "      <td>Long</td>\n",
       "      <td>187.48036</td>\n",
       "      <td>paid</td>\n",
       "      <td>MA-NH</td>\n",
       "      <td>PUT</td>\n",
       "      <td>...</td>\n",
       "      <td>DannyBoy</td>\n",
       "      <td>200</td>\n",
       "      <td>1543337995000</td>\n",
       "      <td>Mozilla50WindowsNT61WOW64AppleWebKit53736KHTML...</td>\n",
       "      <td>9</td>\n",
       "      <td>2018-11-27 16:59:55</td>\n",
       "      <td>11</td>\n",
       "      <td>2018-11-27</td>\n",
       "      <td>2018-09-30 18:20:30</td>\n",
       "      <td>0</td>\n",
       "    </tr>\n",
       "    <tr>\n",
       "      <th>3188</th>\n",
       "      <td>CrystalCastles</td>\n",
       "      <td>LoggedIn</td>\n",
       "      <td>Micah</td>\n",
       "      <td>M</td>\n",
       "      <td>150</td>\n",
       "      <td>Long</td>\n",
       "      <td>251.08853</td>\n",
       "      <td>paid</td>\n",
       "      <td>MA-NH</td>\n",
       "      <td>PUT</td>\n",
       "      <td>...</td>\n",
       "      <td>Empathy</td>\n",
       "      <td>200</td>\n",
       "      <td>1543338182000</td>\n",
       "      <td>Mozilla50WindowsNT61WOW64AppleWebKit53736KHTML...</td>\n",
       "      <td>9</td>\n",
       "      <td>2018-11-27 17:03:02</td>\n",
       "      <td>11</td>\n",
       "      <td>2018-11-27</td>\n",
       "      <td>2018-09-30 18:20:30</td>\n",
       "      <td>0</td>\n",
       "    </tr>\n",
       "    <tr>\n",
       "      <th>3189</th>\n",
       "      <td>None</td>\n",
       "      <td>LoggedIn</td>\n",
       "      <td>Micah</td>\n",
       "      <td>M</td>\n",
       "      <td>151</td>\n",
       "      <td>Long</td>\n",
       "      <td>NaN</td>\n",
       "      <td>paid</td>\n",
       "      <td>MA-NH</td>\n",
       "      <td>PUT</td>\n",
       "      <td>...</td>\n",
       "      <td>None</td>\n",
       "      <td>200</td>\n",
       "      <td>1543338189000</td>\n",
       "      <td>Mozilla50WindowsNT61WOW64AppleWebKit53736KHTML...</td>\n",
       "      <td>9</td>\n",
       "      <td>2018-11-27 17:03:09</td>\n",
       "      <td>11</td>\n",
       "      <td>2018-11-27</td>\n",
       "      <td>2018-09-30 18:20:30</td>\n",
       "      <td>0</td>\n",
       "    </tr>\n",
       "    <tr>\n",
       "      <th>3190</th>\n",
       "      <td>None</td>\n",
       "      <td>LoggedIn</td>\n",
       "      <td>Micah</td>\n",
       "      <td>M</td>\n",
       "      <td>0</td>\n",
       "      <td>Long</td>\n",
       "      <td>NaN</td>\n",
       "      <td>paid</td>\n",
       "      <td>MA-NH</td>\n",
       "      <td>GET</td>\n",
       "      <td>...</td>\n",
       "      <td>None</td>\n",
       "      <td>200</td>\n",
       "      <td>1543587552000</td>\n",
       "      <td>Mozilla50WindowsNT61WOW64AppleWebKit53736KHTML...</td>\n",
       "      <td>9</td>\n",
       "      <td>2018-11-30 14:19:12</td>\n",
       "      <td>11</td>\n",
       "      <td>2018-11-30</td>\n",
       "      <td>2018-09-30 18:20:30</td>\n",
       "      <td>0</td>\n",
       "    </tr>\n",
       "  </tbody>\n",
       "</table>\n",
       "<p>3191 rows × 23 columns</p>\n",
       "</div>"
      ],
      "text/plain": [
       "                        artist      auth firstName gender  itemInSession  \\\n",
       "0               FiveIronFrenzy  LoggedIn     Micah      M             79   \n",
       "1                       Enigma  LoggedIn     Micah      M             80   \n",
       "2       TheAll-AmericanRejects  LoggedIn     Micah      M             81   \n",
       "3     TheVelvetUndergroundNico  LoggedIn     Micah      M             82   \n",
       "4                  BrittNicole  LoggedIn     Micah      M             83   \n",
       "...                        ...       ...       ...    ...            ...   \n",
       "3186                    ATeens  LoggedIn     Micah      M            148   \n",
       "3187               IrishTenors  LoggedIn     Micah      M            149   \n",
       "3188            CrystalCastles  LoggedIn     Micah      M            150   \n",
       "3189                      None  LoggedIn     Micah      M            151   \n",
       "3190                      None  LoggedIn     Micah      M              0   \n",
       "\n",
       "     lastName     length level location method  ...                      song  \\\n",
       "0        Long  236.09424  free    MA-NH    PUT  ...                    Canada   \n",
       "1        Long  262.71302  free    MA-NH    PUT  ...  KnockingOnForbiddenDoors   \n",
       "2        Long  208.29995  free    MA-NH    PUT  ...               DontLeaveMe   \n",
       "3        Long  260.46649  free    MA-NH    PUT  ...                 RunRunRun   \n",
       "4        Long  229.87710  free    MA-NH    PUT  ...            WalkOnTheWater   \n",
       "...       ...        ...   ...      ...    ...  ...                       ...   \n",
       "3186     Long  223.47710  paid    MA-NH    PUT  ...                  MammaMia   \n",
       "3187     Long  187.48036  paid    MA-NH    PUT  ...                  DannyBoy   \n",
       "3188     Long  251.08853  paid    MA-NH    PUT  ...                   Empathy   \n",
       "3189     Long        NaN  paid    MA-NH    PUT  ...                      None   \n",
       "3190     Long        NaN  paid    MA-NH    GET  ...                      None   \n",
       "\n",
       "      status             ts  \\\n",
       "0        200  1538352180000   \n",
       "1        200  1538352416000   \n",
       "2        200  1538352678000   \n",
       "3        200  1538352886000   \n",
       "4        200  1538353146000   \n",
       "...      ...            ...   \n",
       "3186     200  1543337772000   \n",
       "3187     200  1543337995000   \n",
       "3188     200  1543338182000   \n",
       "3189     200  1543338189000   \n",
       "3190     200  1543587552000   \n",
       "\n",
       "                                              userAgent  userId  \\\n",
       "0     Mozilla50WindowsNT61WOW64AppleWebKit53736KHTML...       9   \n",
       "1     Mozilla50WindowsNT61WOW64AppleWebKit53736KHTML...       9   \n",
       "2     Mozilla50WindowsNT61WOW64AppleWebKit53736KHTML...       9   \n",
       "3     Mozilla50WindowsNT61WOW64AppleWebKit53736KHTML...       9   \n",
       "4     Mozilla50WindowsNT61WOW64AppleWebKit53736KHTML...       9   \n",
       "...                                                 ...     ...   \n",
       "3186  Mozilla50WindowsNT61WOW64AppleWebKit53736KHTML...       9   \n",
       "3187  Mozilla50WindowsNT61WOW64AppleWebKit53736KHTML...       9   \n",
       "3188  Mozilla50WindowsNT61WOW64AppleWebKit53736KHTML...       9   \n",
       "3189  Mozilla50WindowsNT61WOW64AppleWebKit53736KHTML...       9   \n",
       "3190  Mozilla50WindowsNT61WOW64AppleWebKit53736KHTML...       9   \n",
       "\n",
       "                  ts_new month        date    registration_new  churn  \n",
       "0    2018-10-01 00:03:00    10  2018-10-01 2018-09-30 18:20:30      0  \n",
       "1    2018-10-01 00:06:56    10  2018-10-01 2018-09-30 18:20:30      0  \n",
       "2    2018-10-01 00:11:18    10  2018-10-01 2018-09-30 18:20:30      0  \n",
       "3    2018-10-01 00:14:46    10  2018-10-01 2018-09-30 18:20:30      0  \n",
       "4    2018-10-01 00:19:06    10  2018-10-01 2018-09-30 18:20:30      0  \n",
       "...                  ...   ...         ...                 ...    ...  \n",
       "3186 2018-11-27 16:56:12    11  2018-11-27 2018-09-30 18:20:30      0  \n",
       "3187 2018-11-27 16:59:55    11  2018-11-27 2018-09-30 18:20:30      0  \n",
       "3188 2018-11-27 17:03:02    11  2018-11-27 2018-09-30 18:20:30      0  \n",
       "3189 2018-11-27 17:03:09    11  2018-11-27 2018-09-30 18:20:30      0  \n",
       "3190 2018-11-30 14:19:12    11  2018-11-30 2018-09-30 18:20:30      0  \n",
       "\n",
       "[3191 rows x 23 columns]"
      ]
     },
     "execution_count": 31,
     "metadata": {},
     "output_type": "execute_result"
    }
   ],
   "source": [
    "spark.sql('''\n",
    "        SELECT *\n",
    "        FROM tbl_df_clean\n",
    "        where userId = 9\n",
    "        \n",
    "        ''').toPandas()"
   ]
  },
  {
   "cell_type": "code",
   "execution_count": 32,
   "metadata": {},
   "outputs": [],
   "source": [
    "df_clean.createOrReplaceTempView(\"tbl_df_clean\")"
   ]
  },
  {
   "cell_type": "markdown",
   "metadata": {},
   "source": [
    "### Explore aggregates on churn and non churn users"
   ]
  },
  {
   "cell_type": "code",
   "execution_count": 33,
   "metadata": {
    "scrolled": false
   },
   "outputs": [
    {
     "name": "stderr",
     "output_type": "stream",
     "text": [
      "                                                                                \r"
     ]
    },
    {
     "data": {
      "image/png": "[encoded data removed]",
      "text/plain": [
       "<Figure size 800x600 with 1 Axes>"
      ]
     },
     "metadata": {},
     "output_type": "display_data"
    }
   ],
   "source": [
    "# churn vs non churn users. Percent of customers\n",
    "\n",
    "n = df_clean.select('userId').dropDuplicates().count()\n",
    "\n",
    "#calculate percent of total rows for each team\n",
    "churn_no = df_clean.select('userId', 'churn').dropDuplicates().groupBy('churn').count().withColumn('churn_percent', (col('count')/n)*100)\n",
    "\n",
    "# convert to Pandas DataFrame for visualization\n",
    "churn_no_pd = churn_no.toPandas()\n",
    "\n",
    "# plot churn\n",
    "plt.figure(figsize=(8, 6))\n",
    "ax = sns.barplot(data=churn_no_pd, x='churn', y='churn_percent', hue='churn')\n",
    "\n",
    "for i in ax.containers:\n",
    "    ax.bar_label(i,)\n",
    "    \n",
    "plt.title('Percent of Churn vs Non Churn Users')\n",
    "plt.xlabel('Churn Status')\n",
    "plt.ylabel('Percent of Users')\n",
    "plt.show()"
   ]
  },
  {
   "cell_type": "code",
   "execution_count": 34,
   "metadata": {
    "scrolled": false
   },
   "outputs": [
    {
     "name": "stderr",
     "output_type": "stream",
     "text": [
      "                                                                                \r"
     ]
    },
    {
     "data": {
      "image/png": "[encoded data removed]",
      "text/plain": [
       "<Figure size 800x600 with 1 Axes>"
      ]
     },
     "metadata": {},
     "output_type": "display_data"
    }
   ],
   "source": [
    "# Calculate churn rate by gender\n",
    "n = df_clean.select('userID', 'gender','churn').distinct().count()\n",
    "\n",
    "gender_churn = df_clean.select('userID', 'gender','churn').distinct().groupBy('gender','churn').count().withColumn('churn_percent', (col('count')/n)*100)\n",
    "\n",
    "# convert to Pandas DataFrame for visualization\n",
    "gender_churn_pd = gender_churn.toPandas()\n",
    "\n",
    "# plot churn\n",
    "plt.figure(figsize=(8, 6))\n",
    "ax = sns.barplot(data=gender_churn_pd, x='gender', y='churn_percent', hue='churn')\n",
    "\n",
    "for i in ax.containers:\n",
    "    ax.bar_label(i,)\n",
    "    \n",
    "plt.title('Percent of Churn vs Non Churn Users by Gender')\n",
    "plt.xlabel('Churn Status')\n",
    "plt.ylabel('Gender')\n",
    "plt.show()"
   ]
  },
  {
   "cell_type": "code",
   "execution_count": 35,
   "metadata": {},
   "outputs": [
    {
     "name": "stderr",
     "output_type": "stream",
     "text": [
      "                                                                                \r"
     ]
    },
    {
     "data": {
      "image/png": "[encoded data removed]",
      "text/plain": [
       "<Figure size 800x600 with 1 Axes>"
      ]
     },
     "metadata": {},
     "output_type": "display_data"
    }
   ],
   "source": [
    "# Calculate churn rate by location\n",
    "n = df_clean.select('userID', 'location','churn').distinct().count()\n",
    "\n",
    "location_churn = df_clean.select('userID', 'location','churn').distinct().groupBy('location','churn').count().withColumn('churn_percent', (col('count')/n)*100)\n",
    "\n",
    "# convert to Pandas DataFrame for visualization\n",
    "location_churn_pd = location_churn.toPandas()\n",
    "\n",
    "# plot churn\n",
    "plt.figure(figsize=(8, 6))\n",
    "ax = sns.barplot(data=location_churn_pd, x='location', y='churn_percent', hue='churn')\n",
    "\n",
    "plt.xticks(rotation=70)\n",
    "plt.tight_layout()\n",
    "    \n",
    "plt.title('Percent of Churn vs Non Churn Users by Location')\n",
    "plt.xlabel('Churn Status')\n",
    "plt.ylabel('Location')\n",
    "plt.show()"
   ]
  },
  {
   "cell_type": "code",
   "execution_count": 36,
   "metadata": {
    "scrolled": true
   },
   "outputs": [
    {
     "name": "stderr",
     "output_type": "stream",
     "text": [
      "\r",
      "[Stage 132:>                                                        (0 + 1) / 1]\r"
     ]
    },
    {
     "name": "stdout",
     "output_type": "stream",
     "text": [
      "+---------+\n",
      "|     auth|\n",
      "+---------+\n",
      "|Cancelled|\n",
      "| LoggedIn|\n",
      "+---------+\n",
      "\n"
     ]
    },
    {
     "name": "stderr",
     "output_type": "stream",
     "text": [
      "\r",
      "                                                                                \r"
     ]
    }
   ],
   "source": [
    "# additional check for Cancelled status in auth column.\n",
    "df_clean.select('auth').distinct().show()"
   ]
  },
  {
   "cell_type": "code",
   "execution_count": 37,
   "metadata": {},
   "outputs": [
    {
     "name": "stderr",
     "output_type": "stream",
     "text": [
      "[Stage 138:>                                                        (0 + 1) / 1]\r"
     ]
    },
    {
     "name": "stdout",
     "output_type": "stream",
     "text": [
      "+------+---------+-----+\n",
      "|userID|     auth|churn|\n",
      "+------+---------+-----+\n",
      "|   120| LoggedIn|    0|\n",
      "|    90| LoggedIn|    0|\n",
      "|    27| LoggedIn|    0|\n",
      "|   117| LoggedIn|    0|\n",
      "|    76| LoggedIn|    0|\n",
      "|    19| LoggedIn|    0|\n",
      "|200001| LoggedIn|    1|\n",
      "|    94| LoggedIn|    0|\n",
      "|    56| LoggedIn|    0|\n",
      "|200011|Cancelled|    1|\n",
      "|    54| LoggedIn|    1|\n",
      "|   102| LoggedIn|    0|\n",
      "|    73|Cancelled|    1|\n",
      "|200015|Cancelled|    1|\n",
      "|   129|Cancelled|    1|\n",
      "|    79| LoggedIn|    0|\n",
      "|   121| LoggedIn|    1|\n",
      "|    24| LoggedIn|    0|\n",
      "|200003| LoggedIn|    0|\n",
      "|    40| LoggedIn|    0|\n",
      "+------+---------+-----+\n",
      "only showing top 20 rows\n",
      "\n"
     ]
    },
    {
     "name": "stderr",
     "output_type": "stream",
     "text": [
      "\r",
      "                                                                                \r"
     ]
    }
   ],
   "source": [
    "df_clean.select('userID', 'auth','churn').distinct().show()"
   ]
  },
  {
   "cell_type": "markdown",
   "metadata": {},
   "source": [
    "There are users that have double auth status in the same ts. We should show last auth status of a user using ts column"
   ]
  },
  {
   "cell_type": "code",
   "execution_count": 38,
   "metadata": {},
   "outputs": [],
   "source": [
    "auth_status = spark.sql('''\n",
    "        SELECT a.userId, a.ts, a.auth, a.churn \n",
    "        FROM tbl_df_clean a \n",
    "        INNER JOIN (SELECT userId, max(ts) as ts\n",
    "                    FROM tbl_df_clean\n",
    "                    group by userId) b on a.userId = b.userId and a.ts = b.ts\n",
    "        \n",
    "        ''')\n",
    "auth_status.createOrReplaceTempView(\"tbl_auth_status\")"
   ]
  },
  {
   "cell_type": "code",
   "execution_count": 39,
   "metadata": {},
   "outputs": [
    {
     "name": "stderr",
     "output_type": "stream",
     "text": [
      "                                                                                \r"
     ]
    },
    {
     "data": {
      "text/html": [
       "<div>\n",
       "<style scoped>\n",
       "    .dataframe tbody tr th:only-of-type {\n",
       "        vertical-align: middle;\n",
       "    }\n",
       "\n",
       "    .dataframe tbody tr th {\n",
       "        vertical-align: top;\n",
       "    }\n",
       "\n",
       "    .dataframe thead th {\n",
       "        text-align: right;\n",
       "    }\n",
       "</style>\n",
       "<table border=\"1\" class=\"dataframe\">\n",
       "  <thead>\n",
       "    <tr style=\"text-align: right;\">\n",
       "      <th></th>\n",
       "      <th>userId</th>\n",
       "      <th>ts</th>\n",
       "      <th>auth</th>\n",
       "      <th>churn</th>\n",
       "      <th>user_cnt</th>\n",
       "    </tr>\n",
       "  </thead>\n",
       "  <tbody>\n",
       "    <tr>\n",
       "      <th>0</th>\n",
       "      <td>127</td>\n",
       "      <td>1543351229000</td>\n",
       "      <td>LoggedIn</td>\n",
       "      <td>0</td>\n",
       "      <td>2</td>\n",
       "    </tr>\n",
       "    <tr>\n",
       "      <th>1</th>\n",
       "      <td>127</td>\n",
       "      <td>1543351229000</td>\n",
       "      <td>LoggedIn</td>\n",
       "      <td>0</td>\n",
       "      <td>2</td>\n",
       "    </tr>\n",
       "    <tr>\n",
       "      <th>2</th>\n",
       "      <td>125</td>\n",
       "      <td>1539318918000</td>\n",
       "      <td>Cancelled</td>\n",
       "      <td>1</td>\n",
       "      <td>2</td>\n",
       "    </tr>\n",
       "    <tr>\n",
       "      <th>3</th>\n",
       "      <td>125</td>\n",
       "      <td>1539318918000</td>\n",
       "      <td>LoggedIn</td>\n",
       "      <td>1</td>\n",
       "      <td>2</td>\n",
       "    </tr>\n",
       "  </tbody>\n",
       "</table>\n",
       "</div>"
      ],
      "text/plain": [
       "   userId             ts       auth  churn  user_cnt\n",
       "0     127  1543351229000   LoggedIn      0         2\n",
       "1     127  1543351229000   LoggedIn      0         2\n",
       "2     125  1539318918000  Cancelled      1         2\n",
       "3     125  1539318918000   LoggedIn      1         2"
      ]
     },
     "execution_count": 39,
     "metadata": {},
     "output_type": "execute_result"
    }
   ],
   "source": [
    "# check users that have duoble auth status in the same ts\n",
    "spark.sql('''\n",
    "        SELECT a.*, b.user_cnt\n",
    "        FROM tbl_auth_status a\n",
    "        LEFT JOIN (select userId, count(userId) user_cnt\n",
    "                            from tbl_auth_status\n",
    "                            group by userID) b on a.userId = b.userId\n",
    "        where b.user_cnt>1\n",
    "    \n",
    "        \n",
    "        ''').toPandas()"
   ]
  },
  {
   "cell_type": "markdown",
   "metadata": {},
   "source": [
    "There are two users with double status in the same ts. For user 125 I will keep row that indicates churn (to not to lose churn flag). For the 127 user I will delete last row.  "
   ]
  },
  {
   "cell_type": "code",
   "execution_count": 40,
   "metadata": {},
   "outputs": [],
   "source": [
    "df_clean = spark.sql('''\n",
    "        SELECT *\n",
    "        FROM tbl_df_clean\n",
    "        where not ((userId = 125 and auth = 'LoggedIn' and ts = 1539318918000) \n",
    "                    or (userId = 127 and auth = 'LoggedIn' and ts = 1543351229000 and method = 'GET'))\n",
    "        \n",
    "        ''')\n",
    "df_clean.createOrReplaceTempView(\"tbl_df_clean\")"
   ]
  },
  {
   "cell_type": "code",
   "execution_count": 41,
   "metadata": {},
   "outputs": [],
   "source": [
    "# latest auth status\n",
    "auth_status_df = spark.sql('''\n",
    "        SELECT a.userId, a.ts, a.auth \n",
    "        FROM tbl_df_clean a \n",
    "        INNER JOIN (SELECT userId, max(ts) as ts\n",
    "                    FROM tbl_df_clean\n",
    "                    group by userId) b on a.userId = b.userId and a.ts = b.ts\n",
    "        \n",
    "        ''')\n",
    "auth_status_df.createOrReplaceTempView(\"tbl_auth_status_df\")"
   ]
  },
  {
   "cell_type": "code",
   "execution_count": 42,
   "metadata": {},
   "outputs": [],
   "source": [
    "# join latest auth status as latest_auth to df_clean and drop original auth column\n",
    "df_clean = spark.sql('''\n",
    "        SELECT a.*, b.auth as latest_auth\n",
    "        FROM tbl_df_clean a\n",
    "        left join (select * from tbl_auth_status_df) b on a.userId = b.userId\n",
    "        ''')\n",
    "# drop oryginal auth column\n",
    "df_clean = df_clean.drop('auth')\n",
    "\n",
    "df_clean.createOrReplaceTempView(\"tbl_df_clean\")"
   ]
  },
  {
   "cell_type": "code",
   "execution_count": 43,
   "metadata": {
    "scrolled": false
   },
   "outputs": [
    {
     "name": "stderr",
     "output_type": "stream",
     "text": [
      "                                                                                \r"
     ]
    },
    {
     "data": {
      "image/png": "[encoded data removed]",
      "text/plain": [
       "<Figure size 800x600 with 1 Axes>"
      ]
     },
     "metadata": {},
     "output_type": "display_data"
    }
   ],
   "source": [
    "# Calculate churn rate by latests auth\n",
    "n = df_clean.select('userID', 'latest_auth','churn').distinct().count()\n",
    "\n",
    "auth_churn = df_clean.select('userID', 'latest_auth','churn').distinct().groupBy('latest_auth','churn').count().withColumn('churn_percent', (col('count')/n)*100)\n",
    "\n",
    "# convert to Pandas DataFrame for visualization\n",
    "auth_churn_pd = auth_churn.toPandas()\n",
    "\n",
    "# plot churn\n",
    "plt.figure(figsize=(8, 6))\n",
    "ax = sns.barplot(data=auth_churn_pd, x='latest_auth', y='churn_percent', hue='churn')\n",
    "\n",
    "for i in ax.containers:\n",
    "    ax.bar_label(i,)\n",
    "    \n",
    "plt.title('Percent of Churn vs Non Churn Users by Latest Auth')\n",
    "plt.xlabel('Churn Status')\n",
    "plt.ylabel('Latest Auth')\n",
    "plt.show()"
   ]
  },
  {
   "cell_type": "markdown",
   "metadata": {},
   "source": [
    "As there is no difference between latest auth and churn column I will delete latest auth column from data set"
   ]
  },
  {
   "cell_type": "code",
   "execution_count": 44,
   "metadata": {},
   "outputs": [],
   "source": [
    "df_clean = df_clean.drop('latest_auth')"
   ]
  },
  {
   "cell_type": "code",
   "execution_count": 45,
   "metadata": {},
   "outputs": [
    {
     "name": "stderr",
     "output_type": "stream",
     "text": [
      "                                                                                \r"
     ]
    },
    {
     "data": {
      "image/png": "[encoded data removed]",
      "text/plain": [
       "<Figure size 800x600 with 1 Axes>"
      ]
     },
     "metadata": {},
     "output_type": "display_data"
    }
   ],
   "source": [
    "# Calculate churn rate by level\n",
    "n = df_clean.select('userID', 'level','churn').distinct().count()\n",
    "\n",
    "level_churn = df_clean.select('userID', 'level','churn').distinct().groupBy('level','churn').count().withColumn('churn_percent', (col('count')/n)*100)\n",
    "\n",
    "# convert to Pandas DataFrame for visualization\n",
    "level_churn_pd = level_churn.toPandas()\n",
    "\n",
    "# plot churn\n",
    "plt.figure(figsize=(8, 6))\n",
    "ax = sns.barplot(data=level_churn_pd, x='level', y='churn_percent', hue='churn')\n",
    "\n",
    "for i in ax.containers:\n",
    "    ax.bar_label(i,)\n",
    "    \n",
    "plt.title('Percent of Churn vs Non Churn Users by Level')\n",
    "plt.xlabel('Churn Status')\n",
    "plt.ylabel('Level')\n",
    "plt.show()"
   ]
  },
  {
   "cell_type": "markdown",
   "metadata": {},
   "source": [
    "# Feature Engineering"
   ]
  },
  {
   "cell_type": "code",
   "execution_count": 46,
   "metadata": {
    "scrolled": true
   },
   "outputs": [
    {
     "name": "stderr",
     "output_type": "stream",
     "text": [
      "                                                                                \r"
     ]
    },
    {
     "data": {
      "text/html": [
       "<div>\n",
       "<style scoped>\n",
       "    .dataframe tbody tr th:only-of-type {\n",
       "        vertical-align: middle;\n",
       "    }\n",
       "\n",
       "    .dataframe tbody tr th {\n",
       "        vertical-align: top;\n",
       "    }\n",
       "\n",
       "    .dataframe thead th {\n",
       "        text-align: right;\n",
       "    }\n",
       "</style>\n",
       "<table border=\"1\" class=\"dataframe\">\n",
       "  <thead>\n",
       "    <tr style=\"text-align: right;\">\n",
       "      <th></th>\n",
       "      <th>artist</th>\n",
       "      <th>firstName</th>\n",
       "      <th>gender</th>\n",
       "      <th>itemInSession</th>\n",
       "      <th>lastName</th>\n",
       "      <th>length</th>\n",
       "      <th>level</th>\n",
       "      <th>location</th>\n",
       "      <th>method</th>\n",
       "      <th>page</th>\n",
       "      <th>...</th>\n",
       "      <th>song</th>\n",
       "      <th>status</th>\n",
       "      <th>ts</th>\n",
       "      <th>userAgent</th>\n",
       "      <th>userId</th>\n",
       "      <th>ts_new</th>\n",
       "      <th>month</th>\n",
       "      <th>date</th>\n",
       "      <th>registration_new</th>\n",
       "      <th>churn</th>\n",
       "    </tr>\n",
       "  </thead>\n",
       "  <tbody>\n",
       "    <tr>\n",
       "      <th>0</th>\n",
       "      <td>MarthaTilston</td>\n",
       "      <td>Colin</td>\n",
       "      <td>M</td>\n",
       "      <td>50</td>\n",
       "      <td>Freeman</td>\n",
       "      <td>277.89016</td>\n",
       "      <td>paid</td>\n",
       "      <td>CA</td>\n",
       "      <td>PUT</td>\n",
       "      <td>NextSong</td>\n",
       "      <td>...</td>\n",
       "      <td>Rockpools</td>\n",
       "      <td>200</td>\n",
       "      <td>1538352117000</td>\n",
       "      <td>Mozilla50WindowsNT61WOW64rv310Gecko20100101Fir...</td>\n",
       "      <td>30</td>\n",
       "      <td>2018-10-01 00:01:57</td>\n",
       "      <td>10</td>\n",
       "      <td>2018-10-01</td>\n",
       "      <td>2018-09-28 22:22:42</td>\n",
       "      <td>0</td>\n",
       "    </tr>\n",
       "    <tr>\n",
       "      <th>1</th>\n",
       "      <td>FiveIronFrenzy</td>\n",
       "      <td>Micah</td>\n",
       "      <td>M</td>\n",
       "      <td>79</td>\n",
       "      <td>Long</td>\n",
       "      <td>236.09424</td>\n",
       "      <td>free</td>\n",
       "      <td>MA-NH</td>\n",
       "      <td>PUT</td>\n",
       "      <td>NextSong</td>\n",
       "      <td>...</td>\n",
       "      <td>Canada</td>\n",
       "      <td>200</td>\n",
       "      <td>1538352180000</td>\n",
       "      <td>Mozilla50WindowsNT61WOW64AppleWebKit53736KHTML...</td>\n",
       "      <td>9</td>\n",
       "      <td>2018-10-01 00:03:00</td>\n",
       "      <td>10</td>\n",
       "      <td>2018-10-01</td>\n",
       "      <td>2018-09-30 18:20:30</td>\n",
       "      <td>0</td>\n",
       "    </tr>\n",
       "    <tr>\n",
       "      <th>2</th>\n",
       "      <td>AdamLambert</td>\n",
       "      <td>Colin</td>\n",
       "      <td>M</td>\n",
       "      <td>51</td>\n",
       "      <td>Freeman</td>\n",
       "      <td>282.82730</td>\n",
       "      <td>paid</td>\n",
       "      <td>CA</td>\n",
       "      <td>PUT</td>\n",
       "      <td>NextSong</td>\n",
       "      <td>...</td>\n",
       "      <td>TimeForMiracles</td>\n",
       "      <td>200</td>\n",
       "      <td>1538352394000</td>\n",
       "      <td>Mozilla50WindowsNT61WOW64rv310Gecko20100101Fir...</td>\n",
       "      <td>30</td>\n",
       "      <td>2018-10-01 00:06:34</td>\n",
       "      <td>10</td>\n",
       "      <td>2018-10-01</td>\n",
       "      <td>2018-09-28 22:22:42</td>\n",
       "      <td>0</td>\n",
       "    </tr>\n",
       "    <tr>\n",
       "      <th>3</th>\n",
       "      <td>Enigma</td>\n",
       "      <td>Micah</td>\n",
       "      <td>M</td>\n",
       "      <td>80</td>\n",
       "      <td>Long</td>\n",
       "      <td>262.71302</td>\n",
       "      <td>free</td>\n",
       "      <td>MA-NH</td>\n",
       "      <td>PUT</td>\n",
       "      <td>NextSong</td>\n",
       "      <td>...</td>\n",
       "      <td>KnockingOnForbiddenDoors</td>\n",
       "      <td>200</td>\n",
       "      <td>1538352416000</td>\n",
       "      <td>Mozilla50WindowsNT61WOW64AppleWebKit53736KHTML...</td>\n",
       "      <td>9</td>\n",
       "      <td>2018-10-01 00:06:56</td>\n",
       "      <td>10</td>\n",
       "      <td>2018-10-01</td>\n",
       "      <td>2018-09-30 18:20:30</td>\n",
       "      <td>0</td>\n",
       "    </tr>\n",
       "  </tbody>\n",
       "</table>\n",
       "<p>4 rows × 22 columns</p>\n",
       "</div>"
      ],
      "text/plain": [
       "           artist firstName gender  itemInSession lastName     length level  \\\n",
       "0   MarthaTilston     Colin      M             50  Freeman  277.89016  paid   \n",
       "1  FiveIronFrenzy     Micah      M             79     Long  236.09424  free   \n",
       "2     AdamLambert     Colin      M             51  Freeman  282.82730  paid   \n",
       "3          Enigma     Micah      M             80     Long  262.71302  free   \n",
       "\n",
       "  location method      page  ...                      song  status  \\\n",
       "0       CA    PUT  NextSong  ...                 Rockpools     200   \n",
       "1    MA-NH    PUT  NextSong  ...                    Canada     200   \n",
       "2       CA    PUT  NextSong  ...           TimeForMiracles     200   \n",
       "3    MA-NH    PUT  NextSong  ...  KnockingOnForbiddenDoors     200   \n",
       "\n",
       "              ts                                          userAgent  userId  \\\n",
       "0  1538352117000  Mozilla50WindowsNT61WOW64rv310Gecko20100101Fir...      30   \n",
       "1  1538352180000  Mozilla50WindowsNT61WOW64AppleWebKit53736KHTML...       9   \n",
       "2  1538352394000  Mozilla50WindowsNT61WOW64rv310Gecko20100101Fir...      30   \n",
       "3  1538352416000  Mozilla50WindowsNT61WOW64AppleWebKit53736KHTML...       9   \n",
       "\n",
       "               ts_new  month        date    registration_new churn  \n",
       "0 2018-10-01 00:01:57     10  2018-10-01 2018-09-28 22:22:42     0  \n",
       "1 2018-10-01 00:03:00     10  2018-10-01 2018-09-30 18:20:30     0  \n",
       "2 2018-10-01 00:06:34     10  2018-10-01 2018-09-28 22:22:42     0  \n",
       "3 2018-10-01 00:06:56     10  2018-10-01 2018-09-30 18:20:30     0  \n",
       "\n",
       "[4 rows x 22 columns]"
      ]
     },
     "execution_count": 46,
     "metadata": {},
     "output_type": "execute_result"
    }
   ],
   "source": [
    "df_clean.toPandas().head(4)"
   ]
  },
  {
   "cell_type": "code",
   "execution_count": 47,
   "metadata": {},
   "outputs": [],
   "source": [
    "# month of last interaction\n",
    "last_interaction_df = df_clean.groupBy('userId').agg(max('ts_new').alias('last_interaction')).withColumn('month_last_interaction', month(col('last_interaction')))"
   ]
  },
  {
   "cell_type": "code",
   "execution_count": 48,
   "metadata": {},
   "outputs": [],
   "source": [
    "# registration length per user\n",
    "df_clean = last_interaction_df.join(df_clean, on='userId').withColumn('registration_length', ((col('last_interaction')-col('registration_new'))/(24*3600)).cast(IntegerType()))"
   ]
  },
  {
   "cell_type": "code",
   "execution_count": 49,
   "metadata": {},
   "outputs": [],
   "source": [
    "#  number of artists listened per user\n",
    "artists_df = df_clean.select('userId', 'artist').distinct().groupBy('userId').count().select('userId', col('count').alias('n_artists'))"
   ]
  },
  {
   "cell_type": "code",
   "execution_count": 50,
   "metadata": {},
   "outputs": [],
   "source": [
    "# number of songs played per user\n",
    "songs_df = df_clean.select('userId', 'song').groupBy('userId').count().select('userId', col('count').alias('n_songs'))"
   ]
  },
  {
   "cell_type": "code",
   "execution_count": 51,
   "metadata": {},
   "outputs": [],
   "source": [
    "# latest page status before churn\n",
    "from pyspark.sql import Window\n",
    "\n",
    "page_df = df_clean.select('userId', 'page', 'ts', 'churn').orderBy('userId', 'ts', ascending=False)\n",
    "\n",
    "w = Window.partitionBy('userId').orderBy(desc('ts'))\n",
    "\n",
    "page_df = page_df.withColumn(\"1st_value\", nth_value(\"page\", 1).over(w)).withColumn(\"2nd_value\", nth_value(\"page\", 2).over(w))"
   ]
  },
  {
   "cell_type": "code",
   "execution_count": 52,
   "metadata": {},
   "outputs": [],
   "source": [
    "page_df.createOrReplaceTempView(\"tbl_page_df\") "
   ]
  },
  {
   "cell_type": "code",
   "execution_count": 53,
   "metadata": {},
   "outputs": [],
   "source": [
    "page_df = spark.sql('''\n",
    "        SELECT * FROM (\n",
    "        SELECT distinct userId,\n",
    "               case when churn = 1 then 2nd_value else 1st_value end as latest_page_before_churn\n",
    "        FROM tbl_page_df)\n",
    "        where latest_page_before_churn IS NOT NULL\n",
    "        \n",
    "        ''')\n",
    "page_df.createOrReplaceTempView(\"tbl_page_df\")"
   ]
  },
  {
   "cell_type": "code",
   "execution_count": 54,
   "metadata": {},
   "outputs": [],
   "source": [
    "# latest level status\n",
    "level_df = df_clean.orderBy('ts', ascending=False).groupBy('userId').agg(first('level').alias('last_level'))"
   ]
  },
  {
   "cell_type": "code",
   "execution_count": 55,
   "metadata": {},
   "outputs": [],
   "source": [
    "# average item(song) length per user\n",
    "avg_length_df = df_clean.groupBy('userId').avg('length').withColumnRenamed('avg(length)', 'avg_length')"
   ]
  },
  {
   "cell_type": "code",
   "execution_count": 56,
   "metadata": {},
   "outputs": [],
   "source": [
    "# daily average sessions per user\n",
    "daily_ses_df = df_clean.groupby('userId','date').agg(countDistinct('sessionId')).\\\n",
    "                groupBy('userId').avg('count(DISTINCT sessionId)').\\\n",
    "                withColumnRenamed('avg(count(DISTINCT sessionId))', 'avg_daily_ses_no')\n",
    "    \n"
   ]
  },
  {
   "cell_type": "code",
   "execution_count": 57,
   "metadata": {},
   "outputs": [],
   "source": [
    "# monthly average sessions per user\n",
    "monthly_ses_df = df_clean.groupby('userId','month').agg(countDistinct('sessionId')).\\\n",
    "                    groupBy('userId').avg('count(DISTINCT sessionId)').\\\n",
    "                    withColumnRenamed('avg(count(DISTINCT sessionId))', 'avg_monthly_ses_no')"
   ]
  },
  {
   "cell_type": "code",
   "execution_count": 58,
   "metadata": {},
   "outputs": [],
   "source": [
    "# average items listened in session per user\n",
    "avg_itemInSession_df = df_clean.groupBy('userId').avg('itemInSession').withColumnRenamed('avg(itemInSession)', 'avg_itemInSession')"
   ]
  },
  {
   "cell_type": "code",
   "execution_count": 59,
   "metadata": {},
   "outputs": [],
   "source": [
    "# daily average session length per user\n",
    "daily_ses_length_df = df_clean.groupby('userId','date','sessionId').\\\n",
    "                    agg(max('ts').alias('max_ts'), min('ts').alias('min_ts')).\\\n",
    "                    withColumn('ses_length_sec', (col('max_ts')-col('min_ts'))*0.001).\\\n",
    "                    groupby('userId','date').avg('ses_length_sec').\\\n",
    "                    groupby('userId').agg(mean('avg(ses_length_sec)').alias('avg_daily_ses_length'))"
   ]
  },
  {
   "cell_type": "code",
   "execution_count": 60,
   "metadata": {},
   "outputs": [],
   "source": [
    "# monthly average items listened in session per user\n",
    "monthly_ses_length_df = df_clean.groupby('userId','month','sessionId').\\\n",
    "                    agg(max('ts').alias('max_ts'), min('ts').alias('min_ts')).\\\n",
    "                    withColumn('ses_length_sec', (col('max_ts')-col('min_ts'))*0.001).\\\n",
    "                    groupby('userId','month').avg('ses_length_sec').\\\n",
    "                    groupby('userId').agg(mean('avg(ses_length_sec)').alias('avg_monthly_ses_length'))"
   ]
  },
  {
   "cell_type": "code",
   "execution_count": 61,
   "metadata": {},
   "outputs": [
    {
     "name": "stderr",
     "output_type": "stream",
     "text": [
      "                                                                                \r"
     ]
    }
   ],
   "source": [
    "# number of events per each user and page status\n",
    "page_status_no_df = df_clean.groupBy('userId').pivot('page').count().fillna(0)"
   ]
  },
  {
   "cell_type": "markdown",
   "metadata": {},
   "source": [
    "Each user has one gender and one location. there are no multiplied rows in df_clean"
   ]
  },
  {
   "cell_type": "code",
   "execution_count": 86,
   "metadata": {},
   "outputs": [],
   "source": [
    "#join new features into df_clean\n",
    "df_feat = df_clean.join(artists_df, on='userId').join(songs_df, on='userId').join(level_df, on='userId')\\\n",
    "                    .join(avg_length_df, on='userId').join(avg_itemInSession_df, on='userId')\\\n",
    "                    .join(daily_ses_df, on='userId').join(monthly_ses_df, on='userId')\\\n",
    "                    .join(daily_ses_length_df, on='userId').join(monthly_ses_length_df, on='userId')\\\n",
    "                    .join(page_df, on='userId')\n",
    "#                     .join(page_status_no_df, on='userId')\\\n",
    "                    "
   ]
  },
  {
   "cell_type": "code",
   "execution_count": 87,
   "metadata": {},
   "outputs": [],
   "source": [
    "df_feat.createOrReplaceTempView(\"tbl_df_feat\") "
   ]
  },
  {
   "cell_type": "code",
   "execution_count": 64,
   "metadata": {},
   "outputs": [
    {
     "name": "stderr",
     "output_type": "stream",
     "text": [
      "                                                                                \r"
     ]
    },
    {
     "name": "stdout",
     "output_type": "stream",
     "text": [
      "+-----+------------------------+-------------------------------+\n",
      "|churn|latest_page_before_churn|count(latest_page_before_churn)|\n",
      "+-----+------------------------+-------------------------------+\n",
      "|    0|                NextSong|                          55777|\n",
      "|    1|              RollAdvert|                             10|\n",
      "|    0|                   About|                           2299|\n",
      "|    0|                    Help|                           1672|\n",
      "|    0|                ThumbsUp|                          21815|\n",
      "|    1|                  Cancel|                          44853|\n",
      "|    0|               AddFriend|                          19495|\n",
      "|    0|              RollAdvert|                           5388|\n",
      "|    0|                  Logout|                          31157|\n",
      "|    0|                    Home|                          60887|\n",
      "|    0|           AddtoPlaylist|                          25374|\n",
      "|    0|               Downgrade|                           7530|\n",
      "|    0|              ThumbsDown|                           1895|\n",
      "+-----+------------------------+-------------------------------+\n",
      "\n"
     ]
    }
   ],
   "source": [
    "spark.sql('''\n",
    "        SELECT churn, latest_page_before_churn, count(latest_page_before_churn)\n",
    "        FROM tbl_df_feat\n",
    "        group by churn, latest_page_before_churn\n",
    "        ''').show()"
   ]
  },
  {
   "cell_type": "markdown",
   "metadata": {},
   "source": [
    "For the great majority of users latest page status before churn is Cancel. I will drop this feature from analysis as it could be additional label for churn."
   ]
  },
  {
   "cell_type": "code",
   "execution_count": 88,
   "metadata": {},
   "outputs": [],
   "source": [
    "# drop unnecessary columns\n",
    "# firstName, lastName has been dropped as we identyfi usar by user id\n",
    "# 'ts', 'registration', 'last_interaction', 'ts_new', 'month', 'date', 'registration_new' has been removed as I used them to calculate new features\n",
    "# 'artist',  'itemInSession', 'length', 'page', 'sessionId', 'song',   'level' has been removed as I used them to calculate new features\n",
    "# 'method', 'status', 'userAgent', have been dropped to avoid complexity\n",
    "df_feat = df_feat.drop('firstName', 'lastName', \n",
    "'ts', 'registration', 'last_interaction', 'ts_new', 'month', 'date', 'registration_new',\n",
    "'artist',  'itemInSession', 'length', 'page', 'sessionId', 'song', 'level',\n",
    "'method', 'status', 'userAgent', 'latest_page_before_churn', 'userId').dropDuplicates()"
   ]
  },
  {
   "cell_type": "code",
   "execution_count": 66,
   "metadata": {},
   "outputs": [
    {
     "name": "stderr",
     "output_type": "stream",
     "text": [
      "                                                                                \r"
     ]
    },
    {
     "data": {
      "text/plain": [
       "(225, 14)"
      ]
     },
     "execution_count": 66,
     "metadata": {},
     "output_type": "execute_result"
    }
   ],
   "source": [
    "# check if we do not have rows doubled\n",
    "df_feat.count(), len(df_feat.columns)"
   ]
  },
  {
   "cell_type": "code",
   "execution_count": 89,
   "metadata": {},
   "outputs": [],
   "source": [
    "df_feat = df_feat.withColumnRenamed('churn', 'label')"
   ]
  },
  {
   "cell_type": "code",
   "execution_count": 68,
   "metadata": {
    "scrolled": false
   },
   "outputs": [
    {
     "data": {
      "text/plain": [
       "['month_last_interaction',\n",
       " 'gender',\n",
       " 'location',\n",
       " 'label',\n",
       " 'registration_length',\n",
       " 'n_artists',\n",
       " 'n_songs',\n",
       " 'last_level',\n",
       " 'avg_length',\n",
       " 'avg_itemInSession',\n",
       " 'avg_daily_ses_no',\n",
       " 'avg_monthly_ses_no',\n",
       " 'avg_daily_ses_length',\n",
       " 'avg_monthly_ses_length']"
      ]
     },
     "execution_count": 68,
     "metadata": {},
     "output_type": "execute_result"
    }
   ],
   "source": [
    "df_feat.columns"
   ]
  },
  {
   "cell_type": "code",
   "execution_count": null,
   "metadata": {},
   "outputs": [],
   "source": [
    "num_columns = []\n",
    "for field in df_feat.schema.fields :\n",
    "    num_columns.append(field.name)\n",
    "\n",
    "# Elements to remove\n",
    "remove = ['gender', 'location','last_level']\n",
    "\n",
    "# Remove elements using list comprehension\n",
    "num_columns = [x for x in num_columns if x not in remove]"
   ]
  },
  {
   "cell_type": "code",
   "execution_count": 93,
   "metadata": {},
   "outputs": [],
   "source": [
    "pd_feat = df_feat.toPandas()"
   ]
  },
  {
   "cell_type": "code",
   "execution_count": 94,
   "metadata": {
    "scrolled": false
   },
   "outputs": [
    {
     "data": {
      "image/png": "[encoded data removed]",
      "text/plain": [
       "<Figure size 640x480 with 1 Axes>"
      ]
     },
     "metadata": {},
     "output_type": "display_data"
    },
    {
     "data": {
      "image/png": "[encoded data removed]",
      "text/plain": [
       "<Figure size 640x480 with 1 Axes>"
      ]
     },
     "metadata": {},
     "output_type": "display_data"
    },
    {
     "data": {
      "image/png": "[encoded data removed]",
      "text/plain": [
       "<Figure size 640x480 with 1 Axes>"
      ]
     },
     "metadata": {},
     "output_type": "display_data"
    },
    {
     "data": {
      "image/png": "[encoded data removed]",
      "text/plain": [
       "<Figure size 640x480 with 1 Axes>"
      ]
     },
     "metadata": {},
     "output_type": "display_data"
    },
    {
     "data": {
      "image/png": "[encoded data removed]",
      "text/plain": [
       "<Figure size 640x480 with 1 Axes>"
      ]
     },
     "metadata": {},
     "output_type": "display_data"
    },
    {
     "data": {
      "image/png": "[encoded data removed]",
      "text/plain": [
       "<Figure size 640x480 with 1 Axes>"
      ]
     },
     "metadata": {},
     "output_type": "display_data"
    },
    {
     "data": {
      "image/png": "[encoded data removed]",
      "text/plain": [
       "<Figure size 640x480 with 1 Axes>"
      ]
     },
     "metadata": {},
     "output_type": "display_data"
    },
    {
     "data": {
      "image/png": "[encoded data removed]",
      "text/plain": [
       "<Figure size 640x480 with 1 Axes>"
      ]
     },
     "metadata": {},
     "output_type": "display_data"
    },
    {
     "data": {
      "image/png": "[encoded data removed]",
      "text/plain": [
       "<Figure size 640x480 with 1 Axes>"
      ]
     },
     "metadata": {},
     "output_type": "display_data"
    },
    {
     "data": {
      "image/png": "[encoded data removed]",
      "text/plain": [
       "<Figure size 640x480 with 1 Axes>"
      ]
     },
     "metadata": {},
     "output_type": "display_data"
    }
   ],
   "source": [
    "for col in num_columns:\n",
    "    ax = pd_feat.pivot(columns='label', values = col).plot.hist()\n",
    "    ax.set_xlabel(col)\n",
    "    ax.set_ylabel('Count')\n",
    "    plt.show()"
   ]
  },
  {
   "cell_type": "markdown",
   "metadata": {},
   "source": [
    "# Modeling"
   ]
  },
  {
   "cell_type": "code",
   "execution_count": 75,
   "metadata": {},
   "outputs": [],
   "source": [
    "# prepare data for pipeline\n",
    "    #create dummy viariables for month_last_interaction, gender, location, last_level, page_status_before_churn\n",
    "ind_month_last_interaction = StringIndexer(inputCol='month_last_interaction', outputCol='month_last_interaction_ind')\n",
    "ind_gender = StringIndexer(inputCol='gender', outputCol='gender_ind')\n",
    "ind_location = StringIndexer(inputCol='location', outputCol='location_ind')\n",
    "ind_last_level = StringIndexer(inputCol='last_level', outputCol='last_level_ind')\n",
    "\n",
    "    #VectorAssembler for numeric values\n",
    "num_columns = []\n",
    "for field in df_feat.schema.fields :\n",
    "    if field.dataType!=StringType():\n",
    "        num_columns.append(field.name)\n",
    "\n",
    "num_columns.remove('label')\n",
    "\n",
    "vec_assembler = VectorAssembler(inputCols=num_columns, outputCol='features')\n"
   ]
  },
  {
   "cell_type": "markdown",
   "metadata": {},
   "source": [
    "Pipeline for tree based models. Due to small dataset I will split it into train and test datasets without validation dataset. I will also use stratified sampling as dataset is imbalanced. The best model will be later tuned."
   ]
  },
  {
   "cell_type": "code",
   "execution_count": 76,
   "metadata": {},
   "outputs": [
    {
     "name": "stderr",
     "output_type": "stream",
     "text": [
      "                                                                                \r"
     ]
    }
   ],
   "source": [
    "# pipeline\n",
    "pipeline_tree  = Pipeline(stages=[ind_month_last_interaction, ind_gender, ind_location, ind_last_level, \n",
    "                      vec_assembler])\n",
    "\n",
    "# transform dataset with pipeline\n",
    "model_df = pipeline_tree.fit(df_feat).transform(df_feat)\n",
    "\n",
    "# stratified sampling based on churn\n",
    "train_strat = model_df.sampleBy('label', fractions={0: 0.8, 1: 0.8}, seed=123)\n",
    "test_strat = model_df.subtract(train_strat)\n",
    " "
   ]
  },
  {
   "cell_type": "code",
   "execution_count": 77,
   "metadata": {},
   "outputs": [
    {
     "name": "stderr",
     "output_type": "stream",
     "text": [
      "[Stage 2365:>                                                       (0 + 1) / 1]\r"
     ]
    },
    {
     "name": "stdout",
     "output_type": "stream",
     "text": [
      "RandomForestClassifier_7d92d15f4cc2\n"
     ]
    },
    {
     "name": "stderr",
     "output_type": "stream",
     "text": [
      "                                                                                \r"
     ]
    },
    {
     "name": "stdout",
     "output_type": "stream",
     "text": [
      "The F1 score for test dataset is 83.67%\n"
     ]
    },
    {
     "name": "stderr",
     "output_type": "stream",
     "text": [
      "                                                                                \r"
     ]
    },
    {
     "name": "stdout",
     "output_type": "stream",
     "text": [
      "The areaUnderPR for test dataset is 82.81%\n"
     ]
    },
    {
     "name": "stderr",
     "output_type": "stream",
     "text": [
      "                                                                                \r"
     ]
    },
    {
     "name": "stdout",
     "output_type": "stream",
     "text": [
      "GBTClassifier_b1b8eec4d7c0\n"
     ]
    },
    {
     "name": "stderr",
     "output_type": "stream",
     "text": [
      "25/03/04 12:04:50 WARN InstanceBuilder: Failed to load implementation from:dev.ludovic.netlib.blas.JNIBLAS\n",
      "25/03/04 12:04:50 WARN InstanceBuilder: Failed to load implementation from:dev.ludovic.netlib.blas.VectorBLAS\n"
     ]
    },
    {
     "name": "stdout",
     "output_type": "stream",
     "text": [
      "The F1 score for test dataset is 91.47%\n"
     ]
    },
    {
     "name": "stderr",
     "output_type": "stream",
     "text": [
      "                                                                                \r"
     ]
    },
    {
     "name": "stdout",
     "output_type": "stream",
     "text": [
      "The areaUnderPR for test dataset is 83.81%\n"
     ]
    }
   ],
   "source": [
    "for ml_model in [RandomForestClassifier(), GBTClassifier()]:\n",
    "    \n",
    "    model = ml_model\n",
    "    model_fit = model.fit(train_strat) \n",
    "    predictions_test =  model_fit.transform(test_strat)\n",
    "\n",
    "    print(model)\n",
    "# f1 score\n",
    "    f1 = MulticlassClassificationEvaluator(metricName='f1')\n",
    "    f1_score = f1.evaluate(predictions_test.select(col('label'), col('prediction')))\n",
    "    print('The F1 score for test dataset is {:.2%}'.format(f1_score)) \n",
    "# area under pr curve  \n",
    "    pr = BinaryClassificationEvaluator()\n",
    "    pr_value = pr.evaluate(predictions_test, {pr.metricName: \"areaUnderPR\"})\n",
    "    print('The areaUnderPR for test dataset is {:.2%}'.format(pr_value))"
   ]
  },
  {
   "cell_type": "markdown",
   "metadata": {},
   "source": [
    "I will tune Gradient Boosting model as it gives the best results on Area under PR curve. I decide to focus on Area under PR metric as it is commonly used for heavily imbalanced datasets where you are optimizing for the positive class.\n",
    "\n",
    "Source: https://arize.com/blog/what-is-pr-auc/"
   ]
  },
  {
   "cell_type": "code",
   "execution_count": 81,
   "metadata": {
    "scrolled": false
   },
   "outputs": [
    {
     "name": "stderr",
     "output_type": "stream",
     "text": [
      "                                                                                \r"
     ]
    },
    {
     "name": "stdout",
     "output_type": "stream",
     "text": [
      "GBTClassifier_6afd8bf3750e\n"
     ]
    },
    {
     "name": "stderr",
     "output_type": "stream",
     "text": [
      "                                                                                \r"
     ]
    },
    {
     "name": "stdout",
     "output_type": "stream",
     "text": [
      "The F1 score on the test set is 91.20%\n"
     ]
    },
    {
     "name": "stderr",
     "output_type": "stream",
     "text": [
      "                                                                                \r"
     ]
    },
    {
     "name": "stdout",
     "output_type": "stream",
     "text": [
      "The areaUnderPR on the test set is 86.83%\n",
      "month_last_interaction : 0.1637953099362304 \n",
      "\n",
      "gender : 0.197273629855262 \n",
      "\n",
      "location : 0.026092983256907423 \n",
      "\n",
      "label : 0.0100035732742666 \n",
      "\n",
      "registration_length : 0.16465457646731577 \n",
      "\n",
      "n_artists : 0.08207197595637805 \n",
      "\n",
      "n_songs : 0.11985187820255443 \n",
      "\n",
      "last_level : 0.06325915755350914 \n",
      "\n",
      "avg_length : 0.07583035213303745 \n",
      "\n",
      "avg_itemInSession : 0.09716656336453855 \n",
      "\n",
      "Best parameters : max depth:3, num Bins:10, num Iter:20\n"
     ]
    }
   ],
   "source": [
    "# model tuning\n",
    "\n",
    "    # define ml model\n",
    "rf = GBTClassifier(labelCol=\"label\")\n",
    "\n",
    "# parameter grid to tune ml model\n",
    "paramGrid = ParamGridBuilder() \\\n",
    "        .addGrid(rf.maxIter, [20, 30]) \\\n",
    "        .addGrid(rf.maxBins, [10, 20, 32, 50]) \\\n",
    "        .addGrid(rf.maxDepth, [3, 5, 10]) \\\n",
    "        .build()\n",
    "                 \n",
    "crossval = CrossValidator(estimator = Pipeline(stages=[rf]),\n",
    "                         estimatorParamMaps = paramGrid,\n",
    "                         evaluator = MulticlassClassificationEvaluator(metricName='f1'),\n",
    "                         numFolds = 3)\n",
    "\n",
    "    # fit model on train set\n",
    "rf_crossval = crossval.fit(train_strat)   \n",
    "\n",
    "    # calculate predictions on test set\n",
    "predictions_test =  rf_crossval.transform(test_strat)\n",
    "\n",
    "    # evaluation metrics\n",
    "print(rf)\n",
    "\n",
    "f1_score_evaluator = MulticlassClassificationEvaluator(metricName='f1')\n",
    "f1_score = f1_score_evaluator.evaluate(predictions_test.select(col('label'), col('prediction')))\n",
    "print('The F1 score on the test set is {:.2%}'.format(f1_score)) \n",
    "#     \n",
    "pr = BinaryClassificationEvaluator()\n",
    "pr_value = pr.evaluate(predictions_test, {pr.metricName: \"areaUnderPR\"})\n",
    "print('The areaUnderPR on the test set is {:.2%}'.format(pr_value))\n",
    "\n",
    "bestPipeline = rf_crossval.bestModel\n",
    "\n",
    "# prints feature importances\n",
    "for i in range(len(bestPipeline.stages[0].featureImportances)):\n",
    "    print(\"{} : {} \\n\".format(df_feat.columns[i], bestPipeline.stages[0].featureImportances[i]))\n",
    "\n",
    "print('Best parameters : max depth:{}, num Bins:{}, num Iter:{}'.\\\n",
    "    format(bestPipeline.stages[0].getOrDefault('maxDepth'), bestPipeline.stages[0].getOrDefault('maxBins'), bestPipeline.stages[0].getOrDefault('maxIter')))"
   ]
  },
  {
   "cell_type": "code",
   "execution_count": null,
   "metadata": {},
   "outputs": [],
   "source": [
    "###\n",
    "# model_df.select(\"label\", \"features\").show()"
   ]
  },
  {
   "cell_type": "code",
   "execution_count": null,
   "metadata": {},
   "outputs": [],
   "source": [
    "# # scale data\n",
    "# scaler = MinMaxScaler(inputCol='features', outputCol=\"ScaledFeatures\")\n",
    "\n",
    "# # prepare pipeline\n",
    "# pipeline_lr  = Pipeline(stages=[ind_month_last_interaction, ind_gender, ind_location, ind_last_level, \n",
    "#                       vec_assembler, scaler])\n",
    "# #transform data with pipeline\n",
    "# model_df_lr = pipeline_lr.fit(df_feat).transform(df_feat)\n",
    "\n",
    "# # stratified sampling based on churn\n",
    "# train_strat_lr = model_df_lr.sampleBy('label', fractions={0: 0.8, 1: 0.8}, seed=123)\n",
    "# test_strat_lr = model_df_lr.subtract(train_strat_lr)\n",
    "\n",
    "\n",
    "\n",
    "# # logistic regression with stratified sampling\n",
    "# model_lr = LogisticRegression()\n",
    "\n",
    "# model_fit_lr = model_lr.fit(train_strat) \n",
    "# predictions_test =  model_fit_lr.transform(test_strat)\n",
    "    \n",
    "# print(model_lr)\n",
    "# # f1\n",
    "# f1 = MulticlassClassificationEvaluator(metricName='f1')\n",
    "# f1_score = f1.evaluate(predictions_test.select(col('label'), col('prediction')))\n",
    "# print('The F1 score for test dataset is {:.2%}'.format(f1_score)) \n",
    "# #area under ROC curve   \n",
    "# auc = BinaryClassificationEvaluator()\n",
    "# auc_value = auc.evaluate(predictions_test, {auc.metricName: \"areaUnderPR\"})\n",
    "# print('The areaUnderPR for test dataset is {:.2%}'.format(auc_value))"
   ]
  },
  {
   "cell_type": "code",
   "execution_count": null,
   "metadata": {},
   "outputs": [],
   "source": [
    "# # define ml model\n",
    "# lr = LogisticRegression()\n",
    "\n",
    "# # parameter grid to tune ml model\n",
    "# paramGrid = ParamGridBuilder() \\\n",
    "#     .addGrid(lr.maxIter, [500]) \\\n",
    "#     .addGrid(lr.regParam, [0.1, 0.01, 0.001]) \\\n",
    "#     .build()\n",
    "\n",
    "# crossval = CrossValidator(estimator = Pipeline(stages=[lr]),\n",
    "#                          estimatorParamMaps = paramGrid,\n",
    "#                          evaluator = BinaryClassificationEvaluator(metricName='areaUnderPR'),\n",
    "#                          numFolds = 3)\n",
    "\n",
    "#     # fit model on train set\n",
    "# lr_crossval = crossval.fit(train_strat)   \n",
    "\n",
    "#     # calculate predictions on test set\n",
    "# predictions_test =  lr_crossval.transform(test_strat)\n",
    "\n",
    "#     # evaluation metrics\n",
    "# print(lr)\n",
    "\n",
    "# f1_score_evaluator = MulticlassClassificationEvaluator(metricName='f1')\n",
    "# f1_score = f1_score_evaluator.evaluate(predictions_test.select(col('label'), col('prediction')))\n",
    "# print('The F1 score for test set is {:.2%}'.format(f1_score)) \n",
    "# #     \n",
    "# auc_evaluator = BinaryClassificationEvaluator()\n",
    "# metric_value = auc_evaluator.evaluate(predictions_test, {auc_evaluator.metricName: \"areaUnderPR\"})\n",
    "# print('The areaUnderPR for test set is {:.2%}'.format(metric_value))\n",
    "\n",
    "# bestPipeline = lr_crossval.bestModel\n",
    "\n",
    "# prints feature importances\n",
    "# for i in range(len(bestPipeline.stages[0].featureImportances)):\n",
    "#     print(\"{} : {} \\n\".format(df_feat.columns[i], bestPipeline.stages[0].featureImportances[i]))\n",
    "\n",
    "# print('Best parameters : maxIter:{}, regParam:{}'.\\\n",
    "#     format(bestPipeline.stages[0].getOrDefault('maxIter'), bestPipeline.stages[0].getOrDefault('regParam')))"
   ]
  }
 ],
 "metadata": {
  "kernelspec": {
   "display_name": "Python 3 (ipykernel)",
   "language": "python",
   "name": "python3"
  },
  "language_info": {
   "codemirror_mode": {
    "name": "ipython",
    "version": 3
   },
   "file_extension": ".py",
   "mimetype": "text/x-python",
   "name": "python",
   "nbconvert_exporter": "python",
   "pygments_lexer": "ipython3",
   "version": "3.10.13"
  }
 },
 "nbformat": 4,
 "nbformat_minor": 2
}
